{
 "cells": [
  {
   "cell_type": "markdown",
   "metadata": {},
   "source": [
    "# Στοχαστικές Διεργασίες και Βελτιστοποίηση στη Μηχανική Μάθηση\n",
    "\n",
    "## 2ο Εργαστήριο - *Principal Component Analysis (PCA)*\n",
    "\n",
    "- Ονομ/νυμο: Χρήστος Νίκου\n",
    "- AM: 03400146\n",
    "- Ιδιότητα: Μεταπτυχιακός φοιτητής Επιστήμης Δεδομένων και Μηχανικής Μάθησης (ΕΔΕΜΜ)\n",
    "- Ηλεκτρονική Διεύθυνση: christosnikou@mail.ntua.gr / chrisnick92@gmail.com"
   ]
  },
  {
   "cell_type": "markdown",
   "metadata": {
    "id": "s_xjbOW-TkC3"
   },
   "source": [
    "# Εκφώνηση\n",
    "\n",
    "<p>Στην άσκηση αυτή θα μελετήσετε τον αλγόριθμο <b><i>ανάλυσης σε κύριες συνιστώσες</i></b> (<b><i>Principal Component Analysis</i></b>, <b><i>PCA</i></b>), υλοποιημένο σύμφωνα με τη <b><i>μέθοδο συνδιακύμανσης</i></b> (<b><i>covariance method</i></b>). Για να κατανοήσετε τη χρησιμότητα της μεθόδου θα εκπαιδεύσετε και θα αξιολογήσετε την ακρίβεια ενός μοντέλου <b><i>logistic regression</i></b> για ένα dataset πριν και μετά την εφαρμογή του αλγορίθμου <b><i>PCA</i></b>. Περισσότερες πληροφορίες για τη μέθοδο αυτή μπορείτε να αναζητήσετε <a href=\"https://ourarchive.otago.ac.nz/handle/10523/7534\">εδώ</a>.</p>\n",
    "\n",
    "<p>Η άσκηση περιλαμβάνει <b><i>δύο</i></b> προγράμματα <i>Python</i>: (a) το πρώτο δέχεται ένα dataset σε μορφή .<i>csv</i>, εφαρμόζει τον αλγόριθμο <b><i>PCA</i></b> και δημιουργεί το αρχείο <b><i>foo.csv</i></b> με το μετασχηματισμένο dataset, όπως προκύπτει από τις κύριες συνιστώσες που επέλεξε ο χρήστης να διατηρήσει, (b) το δεύτερο δέχεται ένα αρχείο σε μορφή .<i>csv</i>, διαχωρίζει το dataset σε <i>training</i> και <i>test set</i>, εκπαιδεύει ένα μοντέλο <b><i>logistic regression</i></b>, χρησιμοποιώντας το <i>training set</i> και υπολογίζει τον αριθμό των σφαλμάτων του μοντέλου πάνω στο <i>test set</i>.</p>\n",
    "\n",
    "<p>Το dataset που θα χρησιμοποιήσετε παρέχεται σε δύο μορφές: (a) <b><i><a href=\"https://raw.githubusercontent.com/nkostopoulos/StochasticsLabPublic/master/lab2/demo3a.csv\">demo3a.csv</a></i></b> και (b) <b><i><a href=\"https://github.com/nkostopoulos/StochasticsLabPublic/blob/master/lab2/demo3b.csv\">demo3b.csv</a></i></b>, το οποίο δεν περιλαμβάνει την πρώτη στήλη του <b><i><a href=\"https://raw.githubusercontent.com/nkostopoulos/StochasticsLabPublic/master/lab2/demo3a.csv\">demo3a.csv</a></i></b>, δηλαδή τα <i>labels</i> που αντιστοιχούν σε κάθε είσοδο. Τα datasets αυτά αποτελούν απλοποιημένη μορφή του dataset που μπορεί να βρεθεί <a href=\"https://archive.ics.uci.edu/ml/datasets/wine\">εδώ</a>.</p>\n",
    "\n",
    "<h3><b><i>Ανάλυση σε Κύριες Συνιστώσες</i></b></h3>\n",
    "<p>Αρχικά, θα φορτώσετε τις βιβλιοθήκες που απαιτούνται για το πρόγραμμα που θα αναλύσει το dataset <b><i><a href=\"https://github.com/nkostopoulos/StochasticsLabPublic/blob/master/lab2/demo3b.csv\">demo3b.csv</a></i></b> στις κύριες συνιστώσες του.</p>\n",
    "\n",
    "\n"
   ]
  },
  {
   "cell_type": "code",
   "execution_count": 1,
   "metadata": {
    "colab": {
     "base_uri": "https://localhost:8080/"
    },
    "id": "KDcaQZ2ofeum",
    "outputId": "becc8350-a05e-4b48-8e78-6d366c1020a2"
   },
   "outputs": [],
   "source": [
    "#https://machinelearningmastery.com/calculate-principal-component-analysis-scratch-python/\n",
    "from numpy import genfromtxt\n",
    "from numpy import mean\n",
    "from numpy import cov\n",
    "from numpy.linalg import eig\n",
    "import numpy as np"
   ]
  },
  {
   "cell_type": "markdown",
   "metadata": {
    "id": "pMilxe9Uf-WT"
   },
   "source": [
    "<p>Στη συνέχεια, θα φορτώσετε το dataset <b><i></i></b></p>"
   ]
  },
  {
   "cell_type": "code",
   "execution_count": 2,
   "metadata": {
    "id": "k92Gv9dwftZp"
   },
   "outputs": [],
   "source": [
    "data = genfromtxt('https://raw.githubusercontent.com/ChrisNick92/StochasticsLabPublic/master/Lab2/demo3b.csv', delimiter=',')"
   ]
  },
  {
   "cell_type": "markdown",
   "metadata": {
    "id": "ydl-AyxahG2b"
   },
   "source": [
    "<p>Έπειτα, θα υπολογίσετε το μέσο όρο κάθε στήλης (feature) του dataset και θα κανονικοποιήσετε κάθε feature με αυτόν</p>"
   ]
  },
  {
   "cell_type": "code",
   "execution_count": 3,
   "metadata": {
    "id": "QU4TQXw2g4xF"
   },
   "outputs": [],
   "source": [
    "M = mean(data.T, axis=1)\n",
    "data_normal = data - M"
   ]
  },
  {
   "cell_type": "markdown",
   "metadata": {
    "id": "BYWD8ozQh-h8"
   },
   "source": [
    "<p>Στη συνέχεια, θα υπολογίσετε το <b><i>πίνακα συνδιακύμανσης</i></b> (<b><i>covariance matrix</i></b>) για το dataset</p>"
   ]
  },
  {
   "cell_type": "code",
   "execution_count": 4,
   "metadata": {
    "colab": {
     "base_uri": "https://localhost:8080/"
    },
    "id": "N3B6Pw6diHxe",
    "outputId": "6d1dd2f9-51c8-4d04-9817-49fc519805fa"
   },
   "outputs": [
    {
     "name": "stdout",
     "output_type": "stream",
     "text": [
      "The covariance matrix of the normalized data is the following: \n",
      "[[ 7.89911157e-01  1.64350328e-02  5.03965534e-02 -1.39557561e+00\n",
      "   4.51870543e+00  2.35123047e-01  3.56524806e-01 -2.92133512e-02\n",
      "   9.15320632e-02  1.07205560e+00  3.92238044e-03  1.22678110e-01\n",
      "   2.36909466e+02]\n",
      " [ 1.64350328e-02  7.74344335e-01  3.18039952e-02  4.24165474e-01\n",
      "  -2.21434109e-01  1.44160704e-02  3.75581395e-02  5.34385808e-03\n",
      "   6.47891175e-02 -1.54797734e-01 -6.06599761e-02  6.96007454e-02\n",
      "  -3.33629219e+01]\n",
      " [ 5.03965534e-02  3.18039952e-02  8.83052117e-02  3.73006798e-01\n",
      "   1.40136434e+00  4.12452594e-02  8.26573643e-02  5.81539654e-03\n",
      "   1.24709839e-02  1.22397007e-01  2.06346094e-03  3.02871079e-02\n",
      "   3.18556160e+01]\n",
      " [-1.39557561e+00  4.24165474e-01  3.73006798e-01  1.15631181e+01\n",
      "  -6.46193798e+00 -4.24464222e-01 -4.52046512e-01  1.24282469e-01\n",
      "  -1.77910614e-01 -2.39565069e+00 -2.05387955e-02 -1.02069171e-03\n",
      "  -5.11872284e+02]\n",
      " [ 4.51870543e+00 -2.21434109e-01  1.40136434e+00 -6.46193798e+00\n",
      "   2.36586822e+02  2.55096899e+00  2.89720930e+00 -3.57263566e-01\n",
      "   2.30737209e+00  8.63970543e+00  1.85996899e-01  9.56255814e-01\n",
      "   2.31515659e+03]\n",
      " [ 2.35123047e-01  1.44160704e-02  4.12452594e-02 -4.24464222e-01\n",
      "   2.55096899e+00  2.97453936e-01  3.40611628e-01 -2.64587657e-02\n",
      "   1.30694305e-01  5.23527370e-01 -7.63816339e-04  1.28195856e-01\n",
      "   9.73171139e+01]\n",
      " [ 3.56524806e-01  3.75581395e-02  8.26573643e-02 -4.52046512e-01\n",
      "   2.89720930e+00  3.40611628e-01  5.44297674e-01 -2.88767442e-02\n",
      "   2.16111628e-01  8.48084496e-01 -8.24186047e-04  1.88436434e-01\n",
      "   1.41942171e+02]\n",
      " [-2.92133512e-02  5.34385808e-03  5.81539654e-03  1.24282469e-01\n",
      "  -3.57263566e-01 -2.64587657e-02 -2.88767442e-02  1.18999463e-02\n",
      "  -1.98501670e-02 -4.97212642e-02  9.44753727e-04 -2.42901670e-02\n",
      "  -1.26918819e+01]\n",
      " [ 9.15320632e-02  6.47891175e-02  1.24709839e-02 -1.77910614e-01\n",
      "   2.30737209e+00  1.30694305e-01  2.16111628e-01 -1.98501670e-02\n",
      "   2.91137680e-01  2.39266834e-01 -9.77493143e-04  8.78196959e-02\n",
      "   5.22928014e+01]\n",
      " [ 1.07205560e+00 -1.54797734e-01  1.22397007e-01 -2.39565069e+00\n",
      "   8.63970543e+00  5.23527370e-01  8.48084496e-01 -4.97212642e-02\n",
      "   2.39266834e-01  2.64316778e+00  2.68330829e-03  1.60809159e-01\n",
      "   4.44340177e+02]\n",
      " [ 3.92238044e-03 -6.06599761e-02  2.06346094e-03 -2.05387955e-02\n",
      "   1.85996899e-01 -7.63816339e-04 -8.24186047e-04  9.44753727e-04\n",
      "  -9.77493143e-04  2.68330829e-03  2.84562519e-02 -8.13836136e-03\n",
      "   6.93777746e+00]\n",
      " [ 1.22678110e-01  6.96007454e-02  3.02871079e-02 -1.02069171e-03\n",
      "   9.56255814e-01  1.28195856e-01  1.88436434e-01 -2.42901670e-02\n",
      "   8.78196959e-02  1.60809159e-01 -8.13836136e-03  2.25782952e-01\n",
      "   3.83903673e+01]\n",
      " [ 2.36909466e+02 -3.33629219e+01  3.18556160e+01 -5.11872284e+02\n",
      "   2.31515659e+03  9.73171139e+01  1.41942171e+02 -1.26918819e+01\n",
      "   5.22928014e+01  4.44340177e+02  6.93777746e+00  3.83903673e+01\n",
      "   1.24265433e+05]]\n"
     ]
    }
   ],
   "source": [
    "covariance = cov(data_normal.T)\n",
    "print(\"The covariance matrix of the normalized data is the following: \")\n",
    "print(covariance)"
   ]
  },
  {
   "cell_type": "markdown",
   "metadata": {
    "id": "rFxfxGxbiPsm"
   },
   "source": [
    "<p>Το επόμενο βήμα είναι να υπολογίσετε τις <b><i>ιδιοτιμές</i></b> (<b><i>eigenvalues</i></b>) και τα <b><i>ιδιοδιανύσματα</i></b> (<b><i>eigenvectors</i></b>) του dataset.</p>"
   ]
  },
  {
   "cell_type": "code",
   "execution_count": 5,
   "metadata": {
    "colab": {
     "base_uri": "https://localhost:8080/"
    },
    "id": "nyqu1myLieP3",
    "outputId": "f94f094b-666e-4f48-b424-0ef434307cc6"
   },
   "outputs": [
    {
     "name": "stdout",
     "output_type": "stream",
     "text": [
      "The eigenvalues of the normalized data are the following: \n",
      "[1.24313073e+05 1.93456026e+02 9.50168321e+00 1.32500169e+00\n",
      " 8.10595669e-01 4.51081713e-01 2.69157831e-01 1.60993380e-01\n",
      " 1.11100343e-01 6.13399000e-03 2.19782528e-02 3.20312852e-02\n",
      " 5.87421686e-02]\n"
     ]
    }
   ],
   "source": [
    "values, vectors = eig(covariance)\n",
    "print(\"The eigenvalues of the normalized data are the following: \")\n",
    "print(values)"
   ]
  },
  {
   "cell_type": "markdown",
   "metadata": {
    "id": "51_NKEP2imoW"
   },
   "source": [
    "<p>Στη συνέχεια, θα επιλέξετε τις πιο σημαντικές <b><i>ιδιοτιμές</i></b> και θα προσαρμόσετε αντίστοιχα τα <b><i>ιδιοδιανύσματα</i></b> του dataset.</p>"
   ]
  },
  {
   "cell_type": "code",
   "execution_count": 6,
   "metadata": {
    "colab": {
     "base_uri": "https://localhost:8080/"
    },
    "id": "Dee3ENf1i4Lx",
    "outputId": "7dc7eff2-c93c-44f0-c772-f8db18ea1bad"
   },
   "outputs": [
    {
     "name": "stdout",
     "output_type": "stream",
     "text": [
      "The most important eigenvalues are the following: \n",
      "[1.24313073e+05 1.93456026e+02 9.50168321e+00]\n",
      "The most important eigenvectors are the following: \n",
      "[[-1.90615566e-03 -4.75319302e-04 -4.70065618e-02  2.25255930e-01\n",
      "   9.82089183e-02 -2.20758056e-01 -8.52483156e-01 -3.65140031e-01\n",
      "  -1.65925760e-01 -5.62139324e-03 -2.07811823e-02  2.48378617e-02\n",
      "  -8.18675258e-04]\n",
      " [ 2.68379014e-04 -2.11118304e-03  3.21935310e-02  1.25115825e-01\n",
      "   9.16405147e-01 -3.07909300e-01  1.86306127e-01  7.26209733e-02\n",
      "  -1.81047372e-02 -1.16925805e-02  8.44468784e-02 -2.41209813e-02\n",
      "   2.31770029e-02]\n",
      " [-2.56407459e-04 -4.21644285e-03  5.19948847e-02  4.67286333e-02\n",
      "   2.01302236e-02 -3.45064791e-03 -1.57617050e-02  1.52544206e-01\n",
      "  -7.18891029e-02 -1.38330530e-01 -6.68720003e-02  6.75337422e-01\n",
      "  -6.97354965e-01]]\n"
     ]
    }
   ],
   "source": [
    "new_values = values[0:3]\n",
    "print(\"The most important eigenvalues are the following: \")\n",
    "print(new_values)\n",
    "new_vectors = vectors[0:3]\n",
    "print(\"The most important eigenvectors are the following: \")\n",
    "print(new_vectors)"
   ]
  },
  {
   "cell_type": "markdown",
   "metadata": {
    "id": "6IVdHr-Ti-O5"
   },
   "source": [
    "<p>Τώρα, θα εφαρμόσετε τα νέα <b><i>ιδιοδιανύσματα</i></b> στο παλιό dataset για να πάρετε το νέο, μειωμένο σε μέγεθος dataset.</p>"
   ]
  },
  {
   "cell_type": "code",
   "execution_count": 7,
   "metadata": {
    "id": "HtJouKmSjPbD"
   },
   "outputs": [],
   "source": [
    "new_data = new_vectors.dot(data_normal.T)"
   ]
  },
  {
   "cell_type": "markdown",
   "metadata": {
    "id": "o5B93KQ3jTpf"
   },
   "source": [
    "<p>Να αποθηκεύσετε το νέο dataset σε ένα αρχείο <i>csv</i>.</p>"
   ]
  },
  {
   "cell_type": "code",
   "execution_count": 8,
   "metadata": {
    "id": "W1uY6kFWjflf"
   },
   "outputs": [],
   "source": [
    "np.savetxt(\"foo.csv\", new_data.T, delimiter=\",\")"
   ]
  },
  {
   "cell_type": "markdown",
   "metadata": {
    "id": "8u085fpWjnPD"
   },
   "source": [
    "<h3><b><i>Ερωτήσεις - Μέρος Α</i></b></h3>\n",
    "<ul>\n",
    "<li>Να μελετήσετε το παραπάνω πρόγραμμα και να περιγράψετε, σύντομα, τα βήματα που ακολουθεί ο αλγόριθμος <b><i>PCA</i></b>, υλοποιημένος με τη μέθοδο <b><i>covariance</i></b>. Να συμπεριλάβετε και τις μαθηματικές πράξεις.</li>\n",
    "<li>Να εφαρμόσετε τον αλγόριθμο <b><i>PCA</i></b> πάνω στα δεδομένα του αρχείου <i><a href=\"https://github.com/nkostopoulos/StochasticsLabPublic/blob/master/lab2/demo3b.csv\">demo3b.csv</a></i>. Στη συνέχεια, να καταγράψετε τον <i>πίνακα συνδιακύμανσης</i> του dataset και τις ιδιοτιμές του πίνακα αυτού. Τι υποδηλώνουν οι θετικές και τι οι αρνητικές τιμές του <i>πίνακα συνδιακύμανσης</i>; Να διατάξετε τις <i>ιδιοτιμές</i> σε φθίνουσα σειρά. Τι παρατηρείτε για τις τρεις πρώτες σε σχέση με τις υπόλοιπες; Πόσες <i>κύριες συνιστώσες</i> επιλέγει να διατηρήσει ο αλγόριθμος;</li>\n",
    "</ul>"
   ]
  },
  {
   "cell_type": "markdown",
   "metadata": {},
   "source": [
    "## Απάντηση στις ερωτήσεις - Μέρος Α"
   ]
  },
  {
   "cell_type": "markdown",
   "metadata": {},
   "source": [
    "### Απάντηση στην ερώτηση 1\n",
    "\n",
    "> *Μελετήστε το παραπάνω πρόγραμμα και περιγράψτε, σύντομα, τα βήματα που ακολουθεί ο αλγόριθμος PCA, υλοποιημένος με τη μέθοδο covariance. Να συμπεριλάβετε και τις μαθηματικές πράξεις.*"
   ]
  },
  {
   "cell_type": "markdown",
   "metadata": {},
   "source": [
    "Ο αλγόριθμος ανάλυσης σε κύριες συνιστώσες *(Principal Component Analysis, PCA)* βασίζεται στον εντοπισμό των κυρίων συνιστωστών του πίνακα διασποράς συνδιασποράς $R = E[XX^T]$, όπου \n",
    "$$ X = (X_1,\\dots,X_n),$$\n",
    "είναι το τυχαίο διάνυσμα διάνυσμα που περιγράφει το σύνολο των χαρακτηριστικών. Πιο συγκεκριμένα, αν υποθέσουμε ότι τα χαρακτηριστικά (*features*) του προβλήματος περιγράφονται από διανύσματα $n$-διαστάσεων $x=(x_1,\\dots,x_n)$, τότε για κάθε συντεταγμένη $1\\leq i \\leq n$ του διανύσματος υποθέτουμε ότι υπάρχει μια τυχαία μεταβλητή $X_i$ που παράγει την τιμή $x_i$ της $i$-οστής συνιστώστας του διανύσματος $x$. Παρ'όλα αυτά, ο υπολογίσμός του πίνακα $R$ στην πράξη δεν είναι εφικτός αφού δεν μπορούμε να γνωρίζουμε εκ των προτέρων ποιες είναι οι τυχαίες μεταβλητές που περιγραφούν τις συνιστώσες του τυχαίου διανύσματος $X = (X_1,\\dots,X_n)$. Συνεπώς, αυτό που χρησιμοποιούμε στην πράξη είναι το σύνολο των δεδομένων (`data` στην προκειμένη περίπτωση) για να εκτιμήσουμε τον πίνακα $R$. Παρακάτω βλέπουμε το μέγεθος του συνόλου δεδομένων που έχουμε αλλά και τη διακασία εκτίμησης του πίνακα $R$ και της εύρεσης των κυρίων συνιστωσών του."
   ]
  },
  {
   "cell_type": "code",
   "execution_count": 9,
   "metadata": {},
   "outputs": [
    {
     "name": "stdout",
     "output_type": "stream",
     "text": [
      "- Στο παράδειγμά μας έχουμε 130 δείγματα και 13 το πλήθος διαφορετικά χαρακτηριστικά\n"
     ]
    }
   ],
   "source": [
    "print(f\"- Στο παράδειγμά μας έχουμε {data.shape[0]} δείγματα και {data.shape[1]} το πλήθος διαφορετικά χαρακτηριστικά\")"
   ]
  },
  {
   "cell_type": "markdown",
   "metadata": {},
   "source": [
    "Όπως βλέπουμε και παραπάνω ο *numpy* πίνακας αποτελείται από 130 δείγματα και 13 χαρακτηριστικά. Αρχικά, η ανάλυση των κυρίων συνιστωστών υλοποιημένος με τη μέθοδο <b><i>covariance</i></b> υποθέτει ότι το τυχαίο διάνυσμα έχει μέση τιμή $0$, δηλαδή $E[X]=0$. Συνεπώς, το πρόγραμμα που μας δίνει αρχικά υπολογίζει τη μέση τιμή του κάθε χαρακτηριστικού και την αφαιρεί από την αντίστοιχη συνιστώσα του κάθε δείγματος. Πιο αναλυτικά, ας συμβολίσουμε με $A$ τον *numpy* πίνακα (`data`) διαστάσεων $(130, 13)$. Δηλαδή, μπορούμε να γράψουμε \n",
    "$$ A = \\begin{pmatrix}\n",
    "x_{11}& \\dots & x_{1K}\\\\\n",
    "x_{21} & \\dots & x_{2K}\\\\\n",
    "\\vdots & \\ddots & \\vdots\\\\\n",
    "x_{N1} & \\dots & x_{NK}\\\\\n",
    "\\end{pmatrix},\n",
    "$$\n",
    "όπου $N = 130$ (το πλήθος των δειγμάτων) και $K=13$ (το πλήθος των χαρακτηριστικών). Τότε, αρχικά υπολογίζουμε για κάθε χαρακτιστικό $1\\leq k \\leq 13$ τη δειγματική μέση τιμή ως προς το πλήθος των δειγμάτων που έχουμε. Δηλαδή, \n",
    "$$\\alpha_k = \\bar{X_k} = \\frac{1}{N}\\sum_{n=1}^Nx_{nk}.$$\n",
    "Ύστερα, θεωρούμε τον πίνακα $A'\\in \\mathbb{R}^{130\\times 13}$ (`data_normal`) με \n",
    "$$ A' = \\begin{pmatrix}\n",
    "x_{11} - \\alpha_1& \\dots & x_{1K}-\\alpha_K\\\\\n",
    "x_{21}-\\alpha_2 & \\dots & x_{2K}-\\alpha_K\\\\\n",
    "\\vdots & \\ddots & \\vdots\\\\\n",
    "x_{N1}-\\alpha_1 & \\dots & x_{NK}-\\alpha_K\\\\\n",
    "\\end{pmatrix}.\n",
    "$$\n",
    "Στο επόμενο βήμα υπολογίζουμε (εκτιμάμε πιο σωστά) τον <b><i>πίνακα συνδιακύμανσης</i> R </b> (<b><i>covariance matrix</i></b>) (`covariance`) για το σύνολο δεδομένων. Αν συμβολίσουμε με $\\alpha_1',\\dots,\\alpha_N'$ τις γραμμές του πίνακα $A'$ τότε ο $R$ υπολογίζεται μέσω της\n",
    "$$ R \\approx \\frac{1}{N}\\sum_{i=1}^N\\alpha_i'\\cdot \\alpha_i'^T.$$\n",
    "\n",
    "Τώρα, ο πίνακας $R$ εξ'ορισμού είναι αυτοσυζής (ή <i><a href=\"https://en.wikipedia.org/wiki/Hermitian_matrix\">Ερμιτιανός</a></i>), απ'αυτό έπεται ότι ο πίνακας διαγωνιοποιείται και επιπλέον τα ιδιοδιανύσματά του είναι ανά δύο κάθετα. Στο προβλημά μας, αυτό σημαίνει ότι υπάρχουν ιδιοδιανύσματα $v_1,\\dots,v_K$ (τόσα όση είναι η διάσταση των χαρακτηριστικών) τα οποία αποτελούν ορθοκανονική βάση του $\\mathbb{R}^K$. Στο παραπάνω πρόγραμμα τα ιδιοδιανύσματα και οι ιδιοτιμές (`values`, `vectors`) υπολογίζονται μέσω της εντολής `values, vectors = eig(covariance)`. Τέλος, αν θέλουμε να μειώσουμε τη διάσταση των χαρακτηριστικών σε $1\\leq K'\\leq K$ κοιτάμε τα ιδιοδιανύσματα με τις $K'$ μεγαλύτερες ιδιοτιμές. Έστω ότι αυτά είναι τα $u_1,\\dots,u_{K'}$, τότε για ένα δειγματικό σημείο $x = (x_1,\\dots,x_K)$ το διάνυσμα που προκύπτει μετά την εφαρμογή της ανάλυσης κυρίων συνιστωσών σε $K'$ κύριες συνιστώσες θα είναι το \n",
    "$$ x' = \\sum_{k=1}^{K'}\\langle x, u_k\\rangle\\cdot u_k,$$\n",
    "δηλαδή η προβολή του $x$ στον υπόχωρο που παράγουν τα ιδιοδιανύσματα $u_1,\\dots,u_{K'}$.\n"
   ]
  },
  {
   "cell_type": "markdown",
   "metadata": {},
   "source": [
    "### Απάντηση στην ερώτηση 2\n",
    "\n",
    "> *Εφαρμόστε τον αλγόριθμο <b><i>PCA</i></b> πάνω στα δεδομένα του αρχείου <i><a href=\"https://raw.githubusercontent.com/ChrisNick92/StochasticsLabPublic/master/Lab2/demo3b.csv\">demo3b.csv</a></i>. Στη συνέχεια, να καταγράψετε τον <i>πίνακα συνδιακύμανσης</i> του dataset και τις ιδιοτιμές του πίνακα αυτού. Τι υποδηλώνουν οι θετικές και τι οι αρνητικές τιμές του <i>πίνακα συνδιακύμανσης</i>; Να διατάξετε τις <i>ιδιοτιμές</i> σε φθίνουσα σειρά. Τι παρατηρείτε για τις τρεις πρώτες σε σχέση με τις υπόλοιπες; Πόσες <i>κύριες συνιστώσες</i> επιλέγει να διατηρήσει ο αλγόριθμος;*"
   ]
  },
  {
   "cell_type": "markdown",
   "metadata": {},
   "source": [
    "Ο πίνακας συνδιακύμανσης υπολογίζεται στη μεταβλητή `covariance`. Παρακάτω βλέπουμε τις τιμές του πίνακα."
   ]
  },
  {
   "cell_type": "code",
   "execution_count": 10,
   "metadata": {},
   "outputs": [
    {
     "data": {
      "text/plain": [
       "array([[ 7.89911157e-01,  1.64350328e-02,  5.03965534e-02,\n",
       "        -1.39557561e+00,  4.51870543e+00,  2.35123047e-01,\n",
       "         3.56524806e-01, -2.92133512e-02,  9.15320632e-02,\n",
       "         1.07205560e+00,  3.92238044e-03,  1.22678110e-01,\n",
       "         2.36909466e+02],\n",
       "       [ 1.64350328e-02,  7.74344335e-01,  3.18039952e-02,\n",
       "         4.24165474e-01, -2.21434109e-01,  1.44160704e-02,\n",
       "         3.75581395e-02,  5.34385808e-03,  6.47891175e-02,\n",
       "        -1.54797734e-01, -6.06599761e-02,  6.96007454e-02,\n",
       "        -3.33629219e+01],\n",
       "       [ 5.03965534e-02,  3.18039952e-02,  8.83052117e-02,\n",
       "         3.73006798e-01,  1.40136434e+00,  4.12452594e-02,\n",
       "         8.26573643e-02,  5.81539654e-03,  1.24709839e-02,\n",
       "         1.22397007e-01,  2.06346094e-03,  3.02871079e-02,\n",
       "         3.18556160e+01],\n",
       "       [-1.39557561e+00,  4.24165474e-01,  3.73006798e-01,\n",
       "         1.15631181e+01, -6.46193798e+00, -4.24464222e-01,\n",
       "        -4.52046512e-01,  1.24282469e-01, -1.77910614e-01,\n",
       "        -2.39565069e+00, -2.05387955e-02, -1.02069171e-03,\n",
       "        -5.11872284e+02],\n",
       "       [ 4.51870543e+00, -2.21434109e-01,  1.40136434e+00,\n",
       "        -6.46193798e+00,  2.36586822e+02,  2.55096899e+00,\n",
       "         2.89720930e+00, -3.57263566e-01,  2.30737209e+00,\n",
       "         8.63970543e+00,  1.85996899e-01,  9.56255814e-01,\n",
       "         2.31515659e+03],\n",
       "       [ 2.35123047e-01,  1.44160704e-02,  4.12452594e-02,\n",
       "        -4.24464222e-01,  2.55096899e+00,  2.97453936e-01,\n",
       "         3.40611628e-01, -2.64587657e-02,  1.30694305e-01,\n",
       "         5.23527370e-01, -7.63816339e-04,  1.28195856e-01,\n",
       "         9.73171139e+01],\n",
       "       [ 3.56524806e-01,  3.75581395e-02,  8.26573643e-02,\n",
       "        -4.52046512e-01,  2.89720930e+00,  3.40611628e-01,\n",
       "         5.44297674e-01, -2.88767442e-02,  2.16111628e-01,\n",
       "         8.48084496e-01, -8.24186047e-04,  1.88436434e-01,\n",
       "         1.41942171e+02],\n",
       "       [-2.92133512e-02,  5.34385808e-03,  5.81539654e-03,\n",
       "         1.24282469e-01, -3.57263566e-01, -2.64587657e-02,\n",
       "        -2.88767442e-02,  1.18999463e-02, -1.98501670e-02,\n",
       "        -4.97212642e-02,  9.44753727e-04, -2.42901670e-02,\n",
       "        -1.26918819e+01],\n",
       "       [ 9.15320632e-02,  6.47891175e-02,  1.24709839e-02,\n",
       "        -1.77910614e-01,  2.30737209e+00,  1.30694305e-01,\n",
       "         2.16111628e-01, -1.98501670e-02,  2.91137680e-01,\n",
       "         2.39266834e-01, -9.77493143e-04,  8.78196959e-02,\n",
       "         5.22928014e+01],\n",
       "       [ 1.07205560e+00, -1.54797734e-01,  1.22397007e-01,\n",
       "        -2.39565069e+00,  8.63970543e+00,  5.23527370e-01,\n",
       "         8.48084496e-01, -4.97212642e-02,  2.39266834e-01,\n",
       "         2.64316778e+00,  2.68330829e-03,  1.60809159e-01,\n",
       "         4.44340177e+02],\n",
       "       [ 3.92238044e-03, -6.06599761e-02,  2.06346094e-03,\n",
       "        -2.05387955e-02,  1.85996899e-01, -7.63816339e-04,\n",
       "        -8.24186047e-04,  9.44753727e-04, -9.77493143e-04,\n",
       "         2.68330829e-03,  2.84562519e-02, -8.13836136e-03,\n",
       "         6.93777746e+00],\n",
       "       [ 1.22678110e-01,  6.96007454e-02,  3.02871079e-02,\n",
       "        -1.02069171e-03,  9.56255814e-01,  1.28195856e-01,\n",
       "         1.88436434e-01, -2.42901670e-02,  8.78196959e-02,\n",
       "         1.60809159e-01, -8.13836136e-03,  2.25782952e-01,\n",
       "         3.83903673e+01],\n",
       "       [ 2.36909466e+02, -3.33629219e+01,  3.18556160e+01,\n",
       "        -5.11872284e+02,  2.31515659e+03,  9.73171139e+01,\n",
       "         1.41942171e+02, -1.26918819e+01,  5.22928014e+01,\n",
       "         4.44340177e+02,  6.93777746e+00,  3.83903673e+01,\n",
       "         1.24265433e+05]])"
      ]
     },
     "execution_count": 10,
     "metadata": {},
     "output_type": "execute_result"
    }
   ],
   "source": [
    "covariance"
   ]
  },
  {
   "cell_type": "markdown",
   "metadata": {},
   "source": [
    "Θετική τιμή στο σημείο $(i,j)$ του πίνακα συνδιακύμανσης σημαίνει θετική γραμμική εξάρτηση μεταξύ των χαρακτηριστικών $(x_i,x_j)$ ενώ αντιθέτα, αρνητική τιμή στο σημείο $(i,j)$ σημαίνει αρνητική γραμμική εξάρτηση μεταξύ των χαρακτηριστικών $(x_i,x_j)$."
   ]
  },
  {
   "cell_type": "code",
   "execution_count": 11,
   "metadata": {},
   "outputs": [
    {
     "name": "stdout",
     "output_type": "stream",
     "text": [
      "- Οι ιδιοτιμές του πίνακα συνδιακύμανσης είναι οι: \n",
      "- λ1 = 124313.07344\n",
      "- λ2 = 193.45603\n",
      "- λ3 = 9.50168\n",
      "- λ4 = 1.32500\n",
      "- λ5 = 0.81060\n",
      "- λ6 = 0.45108\n",
      "- λ7 = 0.26916\n",
      "- λ8 = 0.16099\n",
      "- λ9 = 0.11110\n",
      "- λ10 = 0.00613\n",
      "- λ11 = 0.02198\n",
      "- λ12 = 0.03203\n",
      "- λ13 = 0.05874\n"
     ]
    }
   ],
   "source": [
    "print(f\"- Οι ιδιοτιμές του πίνακα συνδιακύμανσης είναι οι: \")\n",
    "for i, value in enumerate(values):\n",
    "    print(f\"- λ{i+1} = {value:.5f}\")"
   ]
  },
  {
   "cell_type": "markdown",
   "metadata": {},
   "source": [
    "Όπως βλέπουμε οι ιδιοτιμές του πίνακα συνδιακύμανσης είναι όλες θετικές. Αυτό που παρατηρούμε είναι ότι οι πρώτες τρεις ιδιοτιμές του πίνακα συνδιακύμανσης διατηρούν την περισσότερη από την ολική διακύμανση που συσχετίζεται με τα δεδομένα μας. Επομένως, με βάση αυτό το κριτήριο ο αλγόριθμος διαλέγει να κρατήσει τις τρεις πρώτες κύριες συνιστώσες που αντιστοιχούν στις ιδιοτιμές $\\lambda_1,\\lambda_2,\\lambda_3.$"
   ]
  },
  {
   "cell_type": "markdown",
   "metadata": {
    "id": "DBRxVL9BmqGw"
   },
   "source": [
    "<h3><b><i>Logistic Regression</i></b></h3>\n",
    "\n",
    "<p>Αρχικά, θα φορτώσετε τις απαραίτητες βιβλιοθήκες.</p>"
   ]
  },
  {
   "cell_type": "code",
   "execution_count": 12,
   "metadata": {
    "colab": {
     "base_uri": "https://localhost:8080/"
    },
    "id": "MiGjiOEQnpwn",
    "outputId": "873770f3-c5cf-404a-be17-4345deb0a90f"
   },
   "outputs": [],
   "source": [
    "import pandas as pd\n",
    "import numpy as np\n",
    "import matplotlib.pyplot as plt\n",
    "from sklearn.model_selection import train_test_split\n",
    "from sklearn.decomposition import PCA\n",
    "from sklearn.preprocessing import StandardScaler\n",
    "from sklearn.linear_model import LogisticRegression\n",
    "import time"
   ]
  },
  {
   "cell_type": "code",
   "execution_count": 13,
   "metadata": {},
   "outputs": [],
   "source": [
    "def timer(secs):\n",
    "    print(f\"- Execution time: {secs:.5f} seconds\")"
   ]
  },
  {
   "cell_type": "markdown",
   "metadata": {
    "id": "JnNo_v4Jn3gn"
   },
   "source": [
    "Στη συνέχεια, θα φορτώσετε τα datasets που θα χρησιμοποιηθούν για την εκπαίδευση του μοντέλου <b><i>logistic regression</i></b>. Στην πρώτη περίπτωση, θα εκπαιδεύσετε το μοντέλο, χρησιμοποιώντας το αρχείο <i><a href=\"https://raw.githubusercontent.com/nkostopoulos/StochasticsLabPublic/master/lab2/demo3a.csv\">demo3a.csv</a></i>. Στη δεύτερη περίπτωση, θα φορτώσετε το αρχείο <i>foo.csv</i> που πήρατε ως έξοδο από το προηγούμενο τμήμα κώδικα της άσκησης (<i>Ανάλυση σε Κύριες Συνιστώσες</i>), προσθέτοντας στην πρώτη στήλη του αρχείου τα labels που υπάρχουν στην πρώτη στήλη του αρχείου <a href=\"https://raw.githubusercontent.com/nkostopoulos/StochasticsLabPublic/master/lab2/demo3a.csv\"><i>demo3a.csv</i></a>."
   ]
  },
  {
   "cell_type": "markdown",
   "metadata": {
    "id": "nyQn9Hjapdjj"
   },
   "source": [
    "<p>Έπειτα, θα χωρίσετε το dataset σε <i>training</i> και <i>test set</i>.</p>"
   ]
  },
  {
   "cell_type": "code",
   "execution_count": 14,
   "metadata": {
    "id": "7cJDDmjxpSTT"
   },
   "outputs": [],
   "source": [
    "df = pd.read_csv(\"https://raw.githubusercontent.com/ChrisNick92/StochasticsLabPublic/master/Lab2/demo3a.csv\",\n",
    "                header = None)"
   ]
  },
  {
   "cell_type": "code",
   "execution_count": 15,
   "metadata": {
    "id": "NuWbSbVwpWUe"
   },
   "outputs": [],
   "source": [
    "# Separate the input features from the target variable\n",
    "x = df.iloc[:,1:13].values\n",
    "y = df.iloc[:,0].values\n",
    "# Split the dataset into train and test set\n",
    "Xtrain,Xtest,Ytrain,Ytest = train_test_split(x,y, test_size = 0.2)"
   ]
  },
  {
   "cell_type": "markdown",
   "metadata": {
    "id": "HFvPctcepyai"
   },
   "source": [
    "<p>Έπειτα, θα εκπαιδεύσετε το μοντέλο <b><i>Logistic Regression</i></b></p>"
   ]
  },
  {
   "cell_type": "code",
   "execution_count": 16,
   "metadata": {
    "colab": {
     "base_uri": "https://localhost:8080/"
    },
    "id": "cDquqsFOpuUl",
    "outputId": "74123753-408e-4a25-a67b-af204ddc24f7"
   },
   "outputs": [
    {
     "name": "stdout",
     "output_type": "stream",
     "text": [
      "- Execution time: 0.06481 seconds\n"
     ]
    }
   ],
   "source": [
    "tac = time.time()\n",
    "classifier = LogisticRegression(max_iter = 1000)\n",
    "classifier.fit(Xtrain,Ytrain)\n",
    "timer(time.time()- tac)"
   ]
  },
  {
   "cell_type": "markdown",
   "metadata": {
    "id": "ZGx2iFUlqC4w"
   },
   "source": [
    "<p>Τέλος, θα λάβετε τις προβλέψεις του μοντέλου που εκπαιδεύσατε πάνω στο test set και θα υπολογίσετε τα συνολικά λάθη.</p>"
   ]
  },
  {
   "cell_type": "code",
   "execution_count": 17,
   "metadata": {
    "colab": {
     "base_uri": "https://localhost:8080/"
    },
    "id": "opOmr-vCqOKL",
    "outputId": "99217e4f-1332-44af-d2dd-cdad4095e87c"
   },
   "outputs": [
    {
     "name": "stdout",
     "output_type": "stream",
     "text": [
      "Total errors on the test dataset\n",
      "2\n"
     ]
    }
   ],
   "source": [
    "# Get the predictions on the test set\n",
    "prediction = classifier.predict(Xtest)\n",
    "\n",
    "# Calculate the total number of errors on the test set\n",
    "errors = 0\n",
    "for index in range(0,len(prediction) - 1):\n",
    "\tif prediction[index] != Ytest[index]:\n",
    "\t\terrors += 1\n",
    "\n",
    "print(\"Total errors on the test dataset\")\n",
    "print(errors)"
   ]
  },
  {
   "cell_type": "markdown",
   "metadata": {
    "id": "xRVRieelqVsA"
   },
   "source": [
    "<h3><b><i>Ερώτηση - Μέρος Β</i></b></h3>\n",
    "<p>Να εκτελέσετε παραπάνω τμήματα κώδικα με είσοδο τα αρχεία (a) <i><a href=\"https://raw.githubusercontent.com/nkostopoulos/StochasticsLabPublic/master/lab2/demo3a.csv\">demo3a.csv</a></i> και (b) <i>foo.csv</i>. Τι παρατηρείτε για την ακρίβεια του μοντέλου στις δύο περιπτώσεις; Δοκιμάστε και για την περίπτωση που κρατάμε (α) 1 και (β) 2 <i>κύριες συνιστώσες</i>. Τι παρατηρείτε;</p>"
   ]
  },
  {
   "cell_type": "markdown",
   "metadata": {},
   "source": [
    "### Απάντηση στην Ερώτηση - Μέρος - Β\n",
    "\n",
    "Όπως βλέπουμε στο παραπάνω κομμάτι τρέξαμε τον αλγόριθμο *Logistic Regression* στο σύνολο δεδομένων *demo3a.csv* στο οποίο δε χρησιμοποιηθήκε η ανάλυση σε κύριες συνιστώσες. Όπως βλέπουμε και παραπάνω το πλήθος λαθών είναι $2$ και ο συνολικός χρόνος εκπαίδευσης του μοντέλου είναι $0.06$ δευτερόλεπτα. Τώρα, προσαρμόζουμε στο μοντέλο της λογιστικής παλινδρόμησης τα δεδομένα που περιέχονται στο αρχείο *foo.csv* που κατασκευάσαμε στο Α μέρος μέσω της ανάλυσης σε κύριες συνιστώσες με τη μέθοδο <b><i>covariance</i></b>. Παρακάτω βλέπουμε τον χρόνο εκπαίδευσης αυτού του μοντέλου καθώς και το πλήθος των λαθών του."
   ]
  },
  {
   "cell_type": "code",
   "execution_count": 18,
   "metadata": {},
   "outputs": [],
   "source": [
    "df = pd.read_csv(\"foo.csv\", header = None)"
   ]
  },
  {
   "cell_type": "code",
   "execution_count": 20,
   "metadata": {},
   "outputs": [],
   "source": [
    "# Three pricipal components\n",
    "\n",
    "# Separate the input features from the target variable\n",
    "x = df.iloc[:,0:3].values\n",
    "# Split the dataset into train and test set\n",
    "Xtrain,Xtest,Ytrain,Ytest = train_test_split(x,y, test_size = 0.2)"
   ]
  },
  {
   "cell_type": "code",
   "execution_count": 21,
   "metadata": {},
   "outputs": [
    {
     "name": "stdout",
     "output_type": "stream",
     "text": [
      "- Execution time: 0.00900 seconds\n"
     ]
    }
   ],
   "source": [
    "tac = time.time()\n",
    "classifier = LogisticRegression(max_iter = 1000)\n",
    "classifier.fit(Xtrain,Ytrain)\n",
    "timer(time.time()- tac)"
   ]
  },
  {
   "cell_type": "code",
   "execution_count": 22,
   "metadata": {},
   "outputs": [
    {
     "name": "stdout",
     "output_type": "stream",
     "text": [
      "Total errors on the test dataset\n",
      "2\n"
     ]
    }
   ],
   "source": [
    "# Get the predictions on the test set\n",
    "prediction = classifier.predict(Xtest)\n",
    "\n",
    "# Calculate the total number of errors on the test set\n",
    "errors = 0\n",
    "for index in range(0,len(prediction) - 1):\n",
    "\tif prediction[index] != Ytest[index]:\n",
    "\t\terrors += 1\n",
    "\n",
    "print(\"Total errors on the test dataset\")\n",
    "print(errors)"
   ]
  },
  {
   "cell_type": "markdown",
   "metadata": {},
   "source": [
    "Όπως βλέπουμε και παραπάνω το πλήθος λαθών είναι και πάλι $2$ αλλά ο συνολικός χρόνος εκπαίδευσης του μοντέλου μειώθηκε σε $0.009$ δευτερόλεπτα. Παρακάτω κάνουμε την ίδια δουλειά κρατώντας $2$ και $1$ κύριες/κύρια συνιστώσα/συνιστώσες και συνοψίζουμε τα αποτελέσματα των συγκρίσεων για όλα τα παραπάνω μοντέλα."
   ]
  },
  {
   "cell_type": "code",
   "execution_count": 23,
   "metadata": {},
   "outputs": [],
   "source": [
    "# Two principal components\n",
    "\n",
    "# Separate the input features from the target variable\n",
    "x = df.iloc[:,0:2].values\n",
    "# Split the dataset into train and test set\n",
    "Xtrain,Xtest,Ytrain,Ytest = train_test_split(x,y, test_size = 0.2)"
   ]
  },
  {
   "cell_type": "code",
   "execution_count": 24,
   "metadata": {},
   "outputs": [
    {
     "name": "stdout",
     "output_type": "stream",
     "text": [
      "- Execution time: 0.00700 seconds\n"
     ]
    }
   ],
   "source": [
    "tac = time.time()\n",
    "classifier = LogisticRegression(max_iter = 1000)\n",
    "classifier.fit(Xtrain,Ytrain)\n",
    "timer(time.time()- tac)"
   ]
  },
  {
   "cell_type": "code",
   "execution_count": 25,
   "metadata": {},
   "outputs": [
    {
     "name": "stdout",
     "output_type": "stream",
     "text": [
      "Total errors on the test dataset\n",
      "4\n"
     ]
    }
   ],
   "source": [
    "# Get the predictions on the test set\n",
    "prediction = classifier.predict(Xtest)\n",
    "\n",
    "# Calculate the total number of errors on the test set\n",
    "errors = 0\n",
    "for index in range(0,len(prediction) - 1):\n",
    "\tif prediction[index] != Ytest[index]:\n",
    "\t\terrors += 1\n",
    "\n",
    "print(\"Total errors on the test dataset\")\n",
    "print(errors)"
   ]
  },
  {
   "cell_type": "markdown",
   "metadata": {},
   "source": [
    "Αυτό που παρατηρούμε για το μοντέλο με τις 2 κύριες συνιστώσες είναι ότι ο χρόνος εκπαίδευσης μειώθηκε σε $0.007$ δευτερόλεπτα αλλά ο αριθμός των λαθών αυξήθηκε στα $4$ λάθη. Παρακάτω κάνουμε και την ίδια δουλειά για το μοντέλο με την μια κύρια συνιστώσα."
   ]
  },
  {
   "cell_type": "code",
   "execution_count": 26,
   "metadata": {},
   "outputs": [],
   "source": [
    "# Only one principal component\n",
    "\n",
    "# Separate the input features from the target variable\n",
    "x = df.iloc[:,0:1].values\n",
    "# Split the dataset into train and test set\n",
    "Xtrain,Xtest,Ytrain,Ytest = train_test_split(x,y, test_size = 0.2)"
   ]
  },
  {
   "cell_type": "code",
   "execution_count": 27,
   "metadata": {},
   "outputs": [
    {
     "name": "stdout",
     "output_type": "stream",
     "text": [
      "- Execution time: 0.00500 seconds\n"
     ]
    }
   ],
   "source": [
    "tac = time.time()\n",
    "classifier = LogisticRegression(max_iter = 1000)\n",
    "classifier.fit(Xtrain,Ytrain)\n",
    "timer(time.time()- tac)"
   ]
  },
  {
   "cell_type": "code",
   "execution_count": 28,
   "metadata": {},
   "outputs": [
    {
     "name": "stdout",
     "output_type": "stream",
     "text": [
      "Total errors on the test dataset\n",
      "9\n"
     ]
    }
   ],
   "source": [
    "# Get the predictions on the test set\n",
    "prediction = classifier.predict(Xtest)\n",
    "\n",
    "# Calculate the total number of errors on the test set\n",
    "errors = 0\n",
    "for index in range(0,len(prediction) - 1):\n",
    "\tif prediction[index] != Ytest[index]:\n",
    "\t\terrors += 1\n",
    "\n",
    "print(\"Total errors on the test dataset\")\n",
    "print(errors)"
   ]
  },
  {
   "cell_type": "markdown",
   "metadata": {},
   "source": [
    "Όπως βλέπουμε στην περίπτωση της μίας κύριας συνιστώσας ο χρόνος εκτέλεσης μειώθηκε στα $0.005$ δευτερόλεπτα και ο αριθμός των λαθών αυξήθηκε στα $9$. Στον παρακάτω πίνακα συνοψίζουμε τα αποτελέσματα για όλα τα παραπάνω μοντέλα."
   ]
  },
  {
   "cell_type": "markdown",
   "metadata": {},
   "source": [
    "<h1><center>Ακρίβεια και χρόνος εκτέλεσης ανάλογα με το πλήθος των κυρίων συνιστώσεων</center></h1>\n",
    "\n",
    "| |**Κύριες Συνιστώσες** | **Λάθη** |**Χρόνος εκτέλεσης (δευτερόλεπτα)**|\n",
    "|:---------------|:-----------------|:-----------------|:-----------------|\n",
    "| **Μοντέλο 1** |       **13**     | **2**| **0.06**|\n",
    "| **Μοντέλο 2**      |       **3**      |**2**| **0.009**|\n",
    "| **Μοντέλο 3**   |       **2**    |**4**|**0.007**|  \n",
    "|  **Μοντέλο 4**\t     |       **1**    |**9**|**0.005**|"
   ]
  },
  {
   "cell_type": "markdown",
   "metadata": {},
   "source": [
    "Αυτό που παρατηρούμε απ'τον παραπάνω πίνακα είναι ότι όσο μειώνουμε το πλήθος των κυρίων συνιστωσών τόσο μειώνεται ο χρόνος εκτέλεσης αλλά το πλήθος των λαθών αυξάνεται. Σημαντική μείωση του χρόνου εκτέλεσης έχουμε από την μείωση των 13 συνιστωσών στις 3 συνιστώσες διατηρώντας μάλιστα το πλήθος των λαθών ακέραιο. Σε περαιτέρω μείωση στις 2 και 1 συνιστώσες βλέπουμε ότι δεν έχουμε κάποια σημαντική διαφορά ως προς τον χρόνο εκτέλεσης χάνοντας σημαντικά στην ακρίβεια του αλγορίθμου. Συνεπώς, για το συγκεκριμένο πρόβλημα η καλύτερη επιλογή είναι οι μείωση των διαστάσεων στις 3 κύριες συνιστώσες."
   ]
  },
  {
   "cell_type": "markdown",
   "metadata": {
    "id": "gqPhHDExffku"
   },
   "source": [
    "<h3><b><i>Συμπληρωματικές Ερωτήσεις</i></b></h3>\n",
    "<ul>\n",
    "<li>Ποια είναι η χρησιμότητα του αλγορίθμου <b><i>PCA</i></b> ως προς τη δυνατότητα <i>οπτικοποίησης</i> (<i>visualization</i>) των δεδομένων του dataset;</li>\n",
    "<li>Ποια είναι η χρησιμότητα του αλγορίθμου <b><i>PCA</i></b> ως προς την ταχύτητα εκπαίδευσης του μοντέλου logistic regression; Να βασίσετε την απάντησή σας στα δύο παρακάτω τμήματα κώδικα.</li>\n",
    "</ul>"
   ]
  },
  {
   "cell_type": "markdown",
   "metadata": {},
   "source": [
    "### Απάντηση στις συμπληρωματικές ερωτήσεις\n"
   ]
  },
  {
   "cell_type": "markdown",
   "metadata": {},
   "source": [
    "### Ερώτηση 1\n",
    "\n",
    "> *Ποια είναι η χρησιμότητα του αλγορίθμου PCA ως προς τη δυνατότητα οπτικοποίησης (visualization) των δεδομένων του dataset;*"
   ]
  },
  {
   "cell_type": "markdown",
   "metadata": {},
   "source": [
    "Η χρησιμότητα του αλγορίθμου *PCA* με τη μείωση των διαστάσεων που επιτυγχάνει είναι ότι μας δίνει τη δυνατότητα να αναπαραστήοσυμε τα δεδομένα σε κάποιον χώρο που μπορούμε να έχουμε κάποια εποπτεία (π.χ. 1, 2 ή 3 διαστάσεις). Για παράδειγμα, αν αναλύουμε το σύνολο δεδομένων ως προς τρεις κύριες συνιστώσες, τότε μπορούμε να αναπαραστήσουμε τα δεδομένα στον τρισδιάστατο χώρο σε αντίθεση με το αρχικό σύνολο δεδομένων που μπορεί να αποτελείται πάνω από τρεις διαστάσεις. Για παράδειγμα, στο συγκεκριμένο πρόβλημα έχουμε 13 χαρακτηριστικά, συνεπώς το σύνολο των δεδομένων είναι διανύσματα που βρίσκονται στον $\\mathbb{R}^{13}$. Με την ανάλυση σε 3 κύριες συνιστώσες μπορούμε να αναπαραστήσουμε τα δεδομένα στον τρισδιάστατο χώρο και να αντλήσουμε χρήσιμες πληροφορίες για το πως μπορεί αυτά να κατανέμονται στον διανυσματικό χώρο διάστασης $13$. Παρακάτω βλέπουμε την αναπαράσταση των δεδομένων του προβλήματος στον τρισδιάστατο χώρο μέσω της ανάλυσής τους σε τρεις κύριες συνιστώσες."
   ]
  },
  {
   "cell_type": "code",
   "execution_count": 34,
   "metadata": {},
   "outputs": [
    {
     "data": {
      "image/png": "[encoded data removed]",
      "text/plain": [
       "<Figure size 720x720 with 1 Axes>"
      ]
     },
     "metadata": {},
     "output_type": "display_data"
    }
   ],
   "source": [
    "import seaborn as sns\n",
    "\n",
    "sns.set_theme()\n",
    "df = pd.read_csv(\"foo.csv\", header = None)\n",
    "x = df.iloc[:,0:3].values\n",
    "\n",
    "fig = plt.figure(figsize=(10, 10))\n",
    "ax = fig.add_subplot(projection='3d')\n",
    "\n",
    "ax.scatter(x[:,0], x[:,1], x[:,2])\n",
    "ax.set_title(\"Visualization of the data points after PCA\")\n",
    "ax.set_xlabel(\"Principal component 1\")\n",
    "ax.set_ylabel(\"Principal component 2\")\n",
    "ax.set_zlabel(\"Principal component 3\")\n",
    "plt.show()"
   ]
  },
  {
   "cell_type": "markdown",
   "metadata": {},
   "source": [
    "### Ερώτηση 2\n",
    "\n",
    "> *Ποια είναι η χρησιμότητα του αλγορίθμου PCA ως προς την ταχύτητα εκπαίδευσης του μοντέλου logistic regression; Να βασίσετε την απάντησή σας στα δύο παρακάτω τμήματα κώδικα.*"
   ]
  },
  {
   "cell_type": "markdown",
   "metadata": {},
   "source": [
    "Αυτό που παρατηρήσαμε και από τα αποτελέσματα στο πίνακα σύγκρισης των 4 μοντέλων είναι ότι η μείωση των διαστάσεων των χαρακτηριστικών μειώνει κατά πολύ την ταχύτητα εκπαίδευσης του μοντέλου. Για παράδειγμα, από την περίπτωση των 13 χαρακτηριστικών που είχαμε χρόνο εκπαίδευσης $0.06$, μόλις μειώσαμε τα χαρακτηριστικά στις 3 διαστάσεις ο χρόνος εκτέλεσης μειώθηκε στα $0.009$ δευτερόλεπτα. Φυσικά, για το συγκεκριμένο σύνολο δεδομένων αυτοί οι χρόνοι δεν διαφέρουν σημαντικά αλλά για ένα μεγαλύτερο σύνολο δεδομένων η διαφορά στον χρόνο εκπαίδευσης θα είναι αισθητή, αυτό φαίνεται απ' το γεγονός ότι μετά τη μείωση των διαστάσεων ο χρόνος εκπαίδευσης μειώθηκε της τάξης του $1/10$."
   ]
  }
 ],
 "metadata": {
  "colab": {
   "name": "Stochastic_Processes_&_Optimization_in_Machine_Learning_(Lab_2_PCA).ipynb",
   "provenance": []
  },
  "kernelspec": {
   "display_name": "Python 3 (ipykernel)",
   "language": "python",
   "name": "python3"
  },
  "language_info": {
   "codemirror_mode": {
    "name": "ipython",
    "version": 3
   },
   "file_extension": ".py",
   "mimetype": "text/x-python",
   "name": "python",
   "nbconvert_exporter": "python",
   "pygments_lexer": "ipython3",
   "version": "3.9.7"
  }
 },
 "nbformat": 4,
 "nbformat_minor": 1
}

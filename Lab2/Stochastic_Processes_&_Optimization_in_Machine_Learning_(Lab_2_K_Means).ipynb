{
 "cells": [
  {
   "cell_type": "markdown",
   "metadata": {},
   "source": [
    "# Στοχαστικές Διεργασίες και Βελτιστοποίηση στη Μηχανική Μάθηση\n",
    "\n",
    "## 2ο Εργαστήριο - *k-means*\n",
    "\n",
    "- Ονομ/νυμο: Χρήστος Νίκου\n",
    "- AM: 03400146\n",
    "- Ιδιότητα: Μεταπτυχιακός φοιτητής Επιστήμης Δεδομένων και Μηχανικής Μάθησης (ΕΔΕΜΜ)\n",
    "- Ηλεκτρονική Διεύθυνση: christosnikou@mail.ntua.gr / chrisnick92@gmail.com"
   ]
  },
  {
   "cell_type": "markdown",
   "metadata": {
    "id": "UqDCtCWt_uJw"
   },
   "source": [
    "# Εκφώνηση\n",
    "\n",
    "<p align=\"justify\">Στην άσκηση αυτή θα μελετήσετε τον αλγόριθμο μη επιβλεπόμενης μάθησης <a href=\"https://en.wikipedia.org/wiki/K-means_clustering\"><i>k-means</i></a>, κατασκευάζοντας ένα σύντομο πρόγραμμα. Για την παρούσα άσκηση θα χρησιμοποιήσετε τη βιβλιοθήκη <i>Scikit-Learn</i> της <i>Python</i>. Συγκεκριμένα, θα διαχωρίσετε σε <i>συστάδες (clusters)</i> 150 παραδείγματα του φυτού <i>Ίρις</i> με βάση το unlabeled dataset που σας δίνεται στο τέλος της εκφώνησης και με βάση αυτό μπορείτε να χτίσετε και το ενιαίο πρόγραμμα που θα σας ζητηθεί. Τα <i>χαρακτηριστικά (features)</i> που περιλαμβάνονται στο <i>dataset</i> και που περιγράφουν το κάθε παράδειγμα είναι τα εξής: το <i>μήκος του Σέπαλου (sepal length)</i>, το <i>πλάτος του Σέπαλου (sepal width)</i>, το <i>μήκος των Πετάλων (petal length)</i> και το <i>πλάτος των Πετάλων (petal width)</i>.</p>\n",
    "<p>Καλείστε να αναπτύξετε ένα ενιαίο πρόγραμμα που να κάνει τα παρακάτω:</p>\n",
    "<ul>\n",
    "<li>Να υλοποιεί την μέθοδο <a href=\"https://en.wikipedia.org/wiki/Elbow_method_(clustering)\"><i>«Elbow»</i></a> στο δείγμα του φυτού <i>Ίρις</i>, ώστε να εντοπίσετε έναν επαρκή αριθμό <i>συστάδων</i>. Τι παρατηρείτε;</li>\n",
    "<li>Να υλοποιεί τον αλγόριθμο <i>k-means</i> με βάση τον αριθμό <i>συστάδων</i> που βρήκατε στο προηγούμενο ερώτημα. Περιγράψτε πώς λειτουργεί ο αλγόριθμος.</li>\n",
    "<li>Επιχειρήστε να υλοποιήσετε ελέγχους σχετικά με την απόδοση του αλγορίθμου\n",
    "(<i>Ακρίβειας – Accuracy</i>, <a href=\"https://en.wikipedia.org/wiki/Confusion_matrix\"><i>Τιμές Μήτρας Λαθών – Error Matrix</i></a>).</li>\n",
    "</ul>"
   ]
  },
  {
   "cell_type": "markdown",
   "metadata": {},
   "source": [
    "# Το ενιαίο πρόγραμμα - Η βασική κλάση\n",
    "\n",
    "Παρακάτω δίνεται ο πηγαίος κώδικας της βασικής κλάσης που θα χρησιμοποιηθεί για την απαντήση των παραπάνω ερωτημάτων. Η λειτουργία της κάθε συνάρτησης δίνεται μαζί με την απάντηση του αντίστοιχου ερωτήματος. "
   ]
  },
  {
   "cell_type": "code",
   "execution_count": 1,
   "metadata": {},
   "outputs": [],
   "source": [
    "import matplotlib.pyplot as plt\n",
    "from sklearn import datasets\n",
    "from sklearn.cluster import KMeans\n",
    "import sklearn.metrics as sm\n",
    "import seaborn as sns\n",
    " \n",
    "import pandas as pd\n",
    "import numpy as np"
   ]
  },
  {
   "cell_type": "code",
   "execution_count": 2,
   "metadata": {},
   "outputs": [],
   "source": [
    "class kmeans_task():\n",
    "    def __init__(self, data = None):\n",
    "        self.X = data  # The features to be clustered\n",
    "    \n",
    "    def elbow_method(self, max_clusters):\n",
    "        K = range(2, max_clusters+1)\n",
    "        cluster_inertias = []\n",
    "        for k in K:\n",
    "            kmeanModel = KMeans(n_clusters=k)\n",
    "            kmeanModel.fit(self.X)\n",
    "            cluster_inertias.append(kmeanModel.inertia_)\n",
    "        \n",
    "        fig, ax = plt.subplots(figsize = (12,8))\n",
    "        ax.plot(K, cluster_inertias, \"bx-\")\n",
    "        ax.annotate(\"elbow\", xy=(3, cluster_inertias[1]),\n",
    "                    xytext=(6, 130),arrowprops=dict(facecolor = \"b\", arrowstyle=\"->\"))\n",
    "        ax.annotate(\"elbow\", xy=(4, cluster_inertias[2]),\n",
    "                    xytext=(6, 130),arrowprops=dict(facecolor = \"b\", arrowstyle=\"->\"))\n",
    "        ax.set_xlabel(\"Values of K\")\n",
    "        ax.set_ylabel(\"Inertia\")\n",
    "        ax.set_title(\"The elbow method using Inertia\")\n",
    "        plt.show()\n",
    "        \n",
    "    def fit(self, data, n_clusters=5):\n",
    "        self.X = data\n",
    "        self.n_clusters = n_clusters\n",
    "        self.model = KMeans(n_clusters = self.n_clusters, random_state = 2)\n",
    "        self.model.fit(self.X)\n",
    "    \n",
    "    def confusion_matrix(self, targets):\n",
    "        self.targets = targets\n",
    "        self.preds = self.model.predict(self.X)\n",
    "        sns.set_theme()\n",
    "        \n",
    "        self.cm = sm.confusion_matrix(self.targets, self.preds)\n",
    "        df_cm = pd.DataFrame(self.cm, index = [i for i in range(self.n_clusters)],\n",
    "                  columns = [i for i in range(self.n_clusters)])\n",
    "        \n",
    "        fig, ax = plt.subplots(figsize = (10,7))\n",
    "        sns.heatmap(df_cm, annot=True, ax = ax,\n",
    "                    cmap = sns.color_palette(\"light:b\", as_cmap=True))\n",
    "        plt.show()\n",
    "        \n",
    "        "
   ]
  },
  {
   "cell_type": "markdown",
   "metadata": {},
   "source": [
    "Πριν ξεκινήσουμε την υλοποίηση του αλγορίθμου *K-means* φορτώνουμε το σύνολο δεδομένων που θα χρησιμοποιήσουμε. Το σύνολο δεδομένων που θα χρησιμοποιήσουμε είναι το *Iris dataset* το οποίο αποτελείται από 150 δείγματα του φυτού [*Iris*](#https://en.wikipedia.org/wiki/Iris_(plant)). Τα χαρακτηριστικά (*features*) που περιλαμβάνονται στο dataset και που περιγράφουν το κάθε παράδειγμα είναι τα εξής: το μήκος του Σέπαλου (*sepal length*), το πλάτος του Σέπαλου (*sepal width*), το μήκος των Πετάλων (*petal length*) και το πλάτος των Πετάλων (*petal width*). Με τις επόμενες εντολές φορτώνουμε τα χαρακτηριστικά και τα *labels* του συνόλου δεδομένων."
   ]
  },
  {
   "cell_type": "code",
   "execution_count": 3,
   "metadata": {},
   "outputs": [
    {
     "data": {
      "text/html": [
       "<div>\n",
       "<style scoped>\n",
       "    .dataframe tbody tr th:only-of-type {\n",
       "        vertical-align: middle;\n",
       "    }\n",
       "\n",
       "    .dataframe tbody tr th {\n",
       "        vertical-align: top;\n",
       "    }\n",
       "\n",
       "    .dataframe thead th {\n",
       "        text-align: right;\n",
       "    }\n",
       "</style>\n",
       "<table border=\"1\" class=\"dataframe\">\n",
       "  <thead>\n",
       "    <tr style=\"text-align: right;\">\n",
       "      <th></th>\n",
       "      <th>Sepal_Length</th>\n",
       "      <th>Sepal_Width</th>\n",
       "      <th>Petal_Length</th>\n",
       "      <th>Petal_Width</th>\n",
       "    </tr>\n",
       "  </thead>\n",
       "  <tbody>\n",
       "    <tr>\n",
       "      <th>0</th>\n",
       "      <td>5.1</td>\n",
       "      <td>3.5</td>\n",
       "      <td>1.4</td>\n",
       "      <td>0.2</td>\n",
       "    </tr>\n",
       "    <tr>\n",
       "      <th>1</th>\n",
       "      <td>4.9</td>\n",
       "      <td>3.0</td>\n",
       "      <td>1.4</td>\n",
       "      <td>0.2</td>\n",
       "    </tr>\n",
       "    <tr>\n",
       "      <th>2</th>\n",
       "      <td>4.7</td>\n",
       "      <td>3.2</td>\n",
       "      <td>1.3</td>\n",
       "      <td>0.2</td>\n",
       "    </tr>\n",
       "    <tr>\n",
       "      <th>3</th>\n",
       "      <td>4.6</td>\n",
       "      <td>3.1</td>\n",
       "      <td>1.5</td>\n",
       "      <td>0.2</td>\n",
       "    </tr>\n",
       "    <tr>\n",
       "      <th>4</th>\n",
       "      <td>5.0</td>\n",
       "      <td>3.6</td>\n",
       "      <td>1.4</td>\n",
       "      <td>0.2</td>\n",
       "    </tr>\n",
       "    <tr>\n",
       "      <th>...</th>\n",
       "      <td>...</td>\n",
       "      <td>...</td>\n",
       "      <td>...</td>\n",
       "      <td>...</td>\n",
       "    </tr>\n",
       "    <tr>\n",
       "      <th>145</th>\n",
       "      <td>6.7</td>\n",
       "      <td>3.0</td>\n",
       "      <td>5.2</td>\n",
       "      <td>2.3</td>\n",
       "    </tr>\n",
       "    <tr>\n",
       "      <th>146</th>\n",
       "      <td>6.3</td>\n",
       "      <td>2.5</td>\n",
       "      <td>5.0</td>\n",
       "      <td>1.9</td>\n",
       "    </tr>\n",
       "    <tr>\n",
       "      <th>147</th>\n",
       "      <td>6.5</td>\n",
       "      <td>3.0</td>\n",
       "      <td>5.2</td>\n",
       "      <td>2.0</td>\n",
       "    </tr>\n",
       "    <tr>\n",
       "      <th>148</th>\n",
       "      <td>6.2</td>\n",
       "      <td>3.4</td>\n",
       "      <td>5.4</td>\n",
       "      <td>2.3</td>\n",
       "    </tr>\n",
       "    <tr>\n",
       "      <th>149</th>\n",
       "      <td>5.9</td>\n",
       "      <td>3.0</td>\n",
       "      <td>5.1</td>\n",
       "      <td>1.8</td>\n",
       "    </tr>\n",
       "  </tbody>\n",
       "</table>\n",
       "<p>150 rows × 4 columns</p>\n",
       "</div>"
      ],
      "text/plain": [
       "     Sepal_Length  Sepal_Width  Petal_Length  Petal_Width\n",
       "0             5.1          3.5           1.4          0.2\n",
       "1             4.9          3.0           1.4          0.2\n",
       "2             4.7          3.2           1.3          0.2\n",
       "3             4.6          3.1           1.5          0.2\n",
       "4             5.0          3.6           1.4          0.2\n",
       "..            ...          ...           ...          ...\n",
       "145           6.7          3.0           5.2          2.3\n",
       "146           6.3          2.5           5.0          1.9\n",
       "147           6.5          3.0           5.2          2.0\n",
       "148           6.2          3.4           5.4          2.3\n",
       "149           5.9          3.0           5.1          1.8\n",
       "\n",
       "[150 rows x 4 columns]"
      ]
     },
     "execution_count": 3,
     "metadata": {},
     "output_type": "execute_result"
    }
   ],
   "source": [
    "# import some data to play with (from sklearn)\n",
    "iris = datasets.load_iris().data\n",
    "iris.shape\n",
    "labels = datasets.load_iris().target\n",
    "\n",
    "df = pd.DataFrame({\"Sepal_Length\": iris[:,0], \"Sepal_Width\": iris[:,1],\n",
    "                 \"Petal_Length\": iris[:,2], \"Petal_Width\": iris[:,3]})\n",
    "df"
   ]
  },
  {
   "cell_type": "code",
   "execution_count": 4,
   "metadata": {},
   "outputs": [
    {
     "name": "stdout",
     "output_type": "stream",
     "text": [
      "- The dataset contains 3 different classes of the Iris plant.\n",
      "- The dataset contains 150 samples\n",
      "-50 belong to class 0, 50 to class 1 and 50 to class 2.\n"
     ]
    }
   ],
   "source": [
    "print(f\"- The dataset contains {len(np.unique(labels))} different classes of the Iris plant.\")\n",
    "print(f\"- The dataset contains {len(labels)} samples\")\n",
    "print(f\"{- len(labels[labels == 0])} belong to class 0, {len(labels[labels == 1])} to class 1 and {len(labels[labels == 2])} to class 2.\")"
   ]
  },
  {
   "cell_type": "markdown",
   "metadata": {},
   "source": [
    "# Απαντήσεις"
   ]
  },
  {
   "cell_type": "markdown",
   "metadata": {},
   "source": [
    "## Ερώτημα 1\n",
    "\n",
    "> *Υλοποιήστε τη μέθοδο [«Elbow»](#https://en.wikipedia.org/wiki/Elbow_method_(clustering)) στο δείγμα του φυτού Ίρις, ώστε να εντοπίσετε έναν επαρκή αριθμό συστάδων. Τι παρατηρείτε;*"
   ]
  },
  {
   "cell_type": "markdown",
   "metadata": {},
   "source": [
    "Χρησιμοποιώντας τη συνάρτηση *elbow_method* της βασικής κλάσης *kmeans_task* προσδιορίζουμε μέσω της μεθόδου *«Elbow»* τον κατάλληλο αριθμό των συστάδων για να περιγράψουν το σύνολο των δεδομένων μας. Η συνάρτηση *elbow_method* δέχεται ως όρισμα μια παράμετρο *max_clusters* η οποία δείχνει τον μέγιστο αριθμό των συστάδων που θέλουμε να σχηματίσουμε. Ύστερα, για κάθε $2\\leq k \\leq max\\_clusters$ τρέχουμε τον αλγόριθμο *K-means* και υπολογίζουμε την αδράνεια (*inertia*) των συστάδων. Για κάθε $k$ αποθηκεύουμε την αδράνεια σε μια τοπική λίστα εν ονόματι *cluster_inertias* και στο τέλος κατασκευάζουμε ένα σχήμα της αδράνειας συναρτήση των αριθμών των συστάδων $k$. Παρακάτω βλέπουμε την υλοποίηση της μεθόδου *«Elbow»* με $max\\_clusters = 10$."
   ]
  },
  {
   "cell_type": "code",
   "execution_count": 5,
   "metadata": {},
   "outputs": [
    {
     "data": {
      "image/png": "[encoded data removed]",
      "text/plain": [
       "<Figure size 864x576 with 1 Axes>"
      ]
     },
     "metadata": {
      "needs_background": "light"
     },
     "output_type": "display_data"
    }
   ],
   "source": [
    "km = kmeans_task(iris) # Initialize the main object\n",
    "km.elbow_method(max_clusters = 10) # Plot elbows"
   ]
  },
  {
   "cell_type": "markdown",
   "metadata": {},
   "source": [
    "Αυτό που παρατηρούμε απ' το παραπάνω σχήμα είναι ότι ο κατάλληλος αριθμός των συστάδων για το συγκεκριμένο πρόβλημα είναι $K=3$ ή $K=4$. Όπως βλέπουμε τιμές $K>4$ δεν προσφέρουν ιδιαίτερη μείωση της αδράνειας και μπορεί να οδηγήσουν σε υπερεκπαίδευση του μοντέλου μας (*overfitting*)."
   ]
  },
  {
   "cell_type": "markdown",
   "metadata": {},
   "source": [
    "## Ερώτημα 2\n",
    "\n",
    "> *Υλοποιήστε τον αλγόριθμο k-means με βάση τον αριθμό συστάδων που βρήκατε στο προηγούμενο ερώτημα. Περιγράψτε πώς λειτουργεί ο αλγόριθμος.*"
   ]
  },
  {
   "cell_type": "markdown",
   "metadata": {},
   "source": [
    "Σε αυτό το σημείο χρησιμοποιούμε τον αριθμό για το $K$ που προσδιορίσαμε μέσω της μεθόδου *Elbow* για να εκπαιδεύσουμε το μοντέλο με τον αλγόριθμο *K-means*. Θα χρησιμοποιήσουμε τις δύο τιμές για το $K$ που βρήκαμε προηγουμένως, δηλαδή $K=3,4$. Αν έχουμε ένα σύνολο χαρακτηριστικών $X$ το οποίο περιγράφεται μέσω ενός πίνακα διαστάσεων $(n\\_samples, n\\_features)$ τότε για σταθερό $K$ ο αλγόριθμος *K-means* λειτουργεί ως εξής:\n",
    "\n",
    "- Αρχικά αρχικοποιούνται $K$ τυχαία κέντρα στον χώρο διαστάσεων όσο είναι η διάσταση των χαρακτηριστικών $n\\_features$.\n",
    "- Τότε, μέχρις ότου τα κέντρα να μην μεταβάλλονται πάνω από κάποια επιλεγμένη σταθερά $C>0$ επαναλβάνουμε τα εξής:\n",
    "- Για κάθε κέντρο $x_k^i$ στο $i-$οστό βήμα υπολογίζουμε την απόστασή του από όλα τα σημεία που ανήκουν στη συστάδα που δημιουργεί αυτό το κέντρο. Σαν απόσταση σε αυτό το σημείο μπορεί να χρησιμοποιηθεί οποιαδήποτε απόσταση ικανοποιεί τα αξιώματα\n",
    "<i><a href=\"https://en.wikipedia.org/wiki/Metric_(mathematics)\">απόστασης</a></i>. Μερικά παραδείγματα συναρτήσεων απόστασης είναι η *Ευκλείδια απόσταση*, η απόσταση *Manhattan* ή γενικότερα η απόσταση που επάγει η $\\ell_p$-νόρμα, η λεγόμενη απόσταση <i><a href=\"https://en.wikipedia.org/wiki/Minkowski_distance\">Minkowski</a></i>\n",
    "- Έχοντας την απόσταση κάθε σημείου του συνόλου δεδομένων από τα κέντρα $x_1^i,\\dots,x_K^i$ δημιουργούμε $K$ συστάδες επισυνάπτοντας σε κάθε συστάδα τα σημεία που βρίσκονται εγγύτερα από τα $K$ κέντρα.\n",
    "- Τέλος, υπολογίζουμε τα νέα κέντρα $x_1^{i+1},\\dots,x_K^{i+1}$ ως τον μέσο όρο των σημείων που ανήκουν στη συστάδα του εκάστοτε κέντρου. Πιο συγκεκριμένα, αν τα σημεία $y_1,\\dots,y_N$ ανήκουν στη συστάδα που παράγει το κέντρο $x_j^i$ τότε το νέο κέντρο στο βήμα $i+1$ για τη συστάδα $j$ θα υπολογίζεται μέσω της σχέσης\n",
    "$$ x_j^{i+1} = \\frac{1}{N}\\bigl(y_1+\\dots +y_N\\bigr).$$"
   ]
  },
  {
   "cell_type": "markdown",
   "metadata": {},
   "source": [
    "Στις επόμενες εντολές, προσαρμόζουμε το σύνολο δεδομένων στο μοντέλο του αλγορίθμου *K-means*. Η προσαρμογή του μοντέλου γίνεται μέσω της συνάρτησης *fit* της βασικής κλάσης *kmeans\\_task*."
   ]
  },
  {
   "cell_type": "code",
   "execution_count": 6,
   "metadata": {},
   "outputs": [],
   "source": [
    "km3 = kmeans_task()\n",
    "km3.fit(iris, n_clusters = 3)\n",
    "km4 = kmeans_task()\n",
    "km4.fit(iris, n_clusters = 4)"
   ]
  },
  {
   "cell_type": "markdown",
   "metadata": {},
   "source": [
    "Παρκάτω βλέπουμε και την τιμή της *αδράνειας* για κάθε ένα απ'τα παραπάνω μοντέλα."
   ]
  },
  {
   "cell_type": "code",
   "execution_count": 7,
   "metadata": {},
   "outputs": [
    {
     "name": "stdout",
     "output_type": "stream",
     "text": [
      "- Model with 3 clusters has: 78.851 inertia\n",
      "- Model with 4 clusters has: 57.228 inertia\n"
     ]
    }
   ],
   "source": [
    "print(f\"- Model with {3} clusters has: {km3.model.inertia_:.3f} inertia\")\n",
    "print(f\"- Model with {4} clusters has: {km4.model.inertia_:.3f} inertia\")"
   ]
  },
  {
   "cell_type": "markdown",
   "metadata": {},
   "source": [
    "## Ερώτημα 3\n",
    "\n",
    "> *Επιχειρήστε να υλοποιήσετε ελέγχους σχετικά με την απόδοση του αλγορίθμου (Ακρίβειας – Accuracy, <i><a href=\"https://en.wikipedia.org/wiki/Confusion_matrix\"> Confusion matrix)</a></i>.*"
   ]
  },
  {
   "cell_type": "markdown",
   "metadata": {},
   "source": [
    "Χρησιμοποιώντας τη συνάρτηση *confusion_matrix* της βασικής κλάσης αξιολογούμε την απόδοση των παραπάνω μοντέλων $(K=3,4)$ συγκρίνοντας τις προβλέψεις με τις πραγματικές ταμπέλες (*true_labels*) του συνόλου δεδομένων. Πρώτα βλέπουμε τα αποτελέσματα του αλγορίθμου με τις 3 συστάδες."
   ]
  },
  {
   "cell_type": "code",
   "execution_count": 8,
   "metadata": {},
   "outputs": [
    {
     "data": {
      "image/png": "[encoded data removed]",
      "text/plain": [
       "<Figure size 720x504 with 2 Axes>"
      ]
     },
     "metadata": {},
     "output_type": "display_data"
    }
   ],
   "source": [
    "km3.confusion_matrix(labels)"
   ]
  },
  {
   "cell_type": "markdown",
   "metadata": {},
   "source": [
    "Χρησιμοποιώντας τη συνάρτηση *classification_report* της βιβλιοθήκης *sklearn.metrics* μπορούμε να δούμε και αναλυτικά τις τιμές για το *precision, recall* και το *f1-score* των 3 συστάδων ξεχωριστά."
   ]
  },
  {
   "cell_type": "code",
   "execution_count": 9,
   "metadata": {},
   "outputs": [
    {
     "name": "stdout",
     "output_type": "stream",
     "text": [
      "              precision    recall  f1-score   support\n",
      "\n",
      "     Class 0       1.00      1.00      1.00        50\n",
      "     Class 1       0.77      0.96      0.86        50\n",
      "     Class 2       0.95      0.72      0.82        50\n",
      "\n",
      "    accuracy                           0.89       150\n",
      "   macro avg       0.91      0.89      0.89       150\n",
      "weighted avg       0.91      0.89      0.89       150\n",
      "\n"
     ]
    }
   ],
   "source": [
    "from sklearn.metrics import classification_report\n",
    "print(classification_report(km3.targets, km3.preds, target_names=[\"Class 0\", \"Class 1\", \"Class 2\"]))"
   ]
  },
  {
   "cell_type": "markdown",
   "metadata": {},
   "source": [
    "Παρακάτω βλέπουμε και τα αντίστοιχα αποτελέσματα για το μοντέλο με τις 4 συστάδες."
   ]
  },
  {
   "cell_type": "code",
   "execution_count": 10,
   "metadata": {},
   "outputs": [
    {
     "data": {
      "image/png": "[encoded data removed]",
      "text/plain": [
       "<Figure size 720x504 with 2 Axes>"
      ]
     },
     "metadata": {},
     "output_type": "display_data"
    }
   ],
   "source": [
    "km4.confusion_matrix(labels)"
   ]
  },
  {
   "cell_type": "code",
   "execution_count": 11,
   "metadata": {},
   "outputs": [
    {
     "name": "stdout",
     "output_type": "stream",
     "text": [
      "              precision    recall  f1-score   support\n",
      "\n",
      "     Class 0       0.00      0.00      0.00        50\n",
      "     Class 1       0.00      0.00      0.00        50\n",
      "     Class 2       1.00      0.64      0.78        50\n",
      "     Class 3       0.00      0.00      0.00         0\n",
      "\n",
      "    accuracy                           0.21       150\n",
      "   macro avg       0.25      0.16      0.20       150\n",
      "weighted avg       0.33      0.21      0.26       150\n",
      "\n"
     ]
    }
   ],
   "source": [
    "import warnings\n",
    "warnings.filterwarnings(\"ignore\") # ignore division by zero\n",
    "print(classification_report(km4.targets, km4.preds, target_names=[\"Class 0\", \"Class 1\", \"Class 2\", \"Class 3\"]))"
   ]
  }
 ],
 "metadata": {
  "colab": {
   "name": "Stochastic_Processes_&_Optimization_in_Machine_Learning_(Lab_2_K_Means).ipynb",
   "provenance": []
  },
  "kernelspec": {
   "display_name": "Python 3 (ipykernel)",
   "language": "python",
   "name": "python3"
  },
  "language_info": {
   "codemirror_mode": {
    "name": "ipython",
    "version": 3
   },
   "file_extension": ".py",
   "mimetype": "text/x-python",
   "name": "python",
   "nbconvert_exporter": "python",
   "pygments_lexer": "ipython3",
   "version": "3.9.7"
  }
 },
 "nbformat": 4,
 "nbformat_minor": 1
}

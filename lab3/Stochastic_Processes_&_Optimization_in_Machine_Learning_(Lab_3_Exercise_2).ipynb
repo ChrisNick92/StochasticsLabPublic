{
 "cells": [
  {
   "cell_type": "markdown",
   "metadata": {
    "colab": {},
    "colab_type": "code",
    "id": "e27L4xmNrWGR"
   },
   "source": [
    "# Στοχαστικές Διεργασίες και Βελτιστοποίηση στη Μηχανική Μάθηση\n",
    "\n",
    "## 3ο Εργαστήριο - *Εxercise 2*\n",
    "\n",
    "- Ονομ/νυμο: Χρήστος Νίκου\n",
    "- AM: 03400146\n",
    "- Ιδιότητα: Μεταπτυχιακός φοιτητής Επιστήμης Δεδομένων και Μηχανικής Μάθησης (ΕΔΕΜΜ)\n",
    "- Ηλεκτρονική Διεύθυνση: christosnikou@mail.ntua.gr / chrisnick92@gmail.com"
   ]
  },
  {
   "cell_type": "markdown",
   "metadata": {
    "colab_type": "text",
    "id": "xBgJvYpPrY_t"
   },
   "source": [
    "<h1><b>Άσκηση 2</b></h1>\n",
    "<p align=\"justify\">Σας δίνεται η παρακάτω στοχαστική μήτρα πιθανοτήτων P μιας μαρκοβιανής αλυσίδας. Από τη μήτρα αυτή έχουν παραλειφθεί ορισμένα στοιχεία:</p>\n",
    "<img src=\"https://raw.githubusercontent.com/nkostopoulos/StochasticsLabPublic/master/lab3/ex2.PNG\"><img>\n",
    "<ul>\n",
    "<li>Να συμπληρώσετε τα κενά της μήτρας πιθανοτήτων P της μαρκοβιανής αλυσίδας.</li>\n",
    "<li>Χρησιμοποιώντας τον <a href=\"http://setosa.io/markov/index.html#%7B%22tm%22%3A%5B%5B0.6%2C0.2%2C0%2C0%2C0%2C0.2%5D%2C%5B0.2%2C0.6%2C0.2%2C0%2C0%2C0%5D%2C%5B0%2C0.2%2C0.6%2C0.2%2C0%2C0%5D%2C%5B0%2C0%2C0.2%2C0.6%2C0.2%2C0%5D%2C%5B0%2C0%2C0%2C0.2%2C0.6%2C0.2%5D%2C%5B0.2%2C0%2C0%2C0%2C0.2%2C0.6%5D%5D%7D\">προσομοιωτή</a> να σχεδιάσετε την παραπάνω μαρκοβιανή αλυσίδα και να ταξινομήσετε τις καταστάσεις της σε κλάσεις επικοινωνίας. Πώς αποκαλείται μια τέτοια αλυσίδα με κριτήριο τις κλάσεις επικοινωνίας; Τι συμπέρασμα βγάζετε σχετικά με την ύπαρξη αναλλοίωτης κατανομής για την αλυσίδα;</li>\n",
    "<li>Χρησιμοποιώντας τον κώδικα που παρατίθεται στο τέλος της άσκησης θα εκτιμήσετε την αναλλοίωτη κατανομή της μαρκοβιανής αλυσίδας με τη μέθοδο της προσομοίωσης. Το πρόγραμμα: (α) ορίζει τη μήτρα πιθανοτήτων και την αρχική κατανομή της αλυσίδας, (β) ορίζει το μοντέλο της και (γ) εκτιμά την αναλλοίωτη κατανομή της αλυσίδας για κάθε κατάσταση, διαιρώντας τον αριθμό των επισκέψεων στην κατάσταση αυτή με το συνολικό αριθμό των βημάτων της αλυσίδας (παράμετρος <i>total_runs</i>). Το πρόγραμμα δίνει ως έξοδο ένα ραβδόγραμμα που απεικονίζει την αναλλοίωτη κατανομή της αλυσίδας. Να καταγράψετε το αποτέλεσμα της εκτέλεσης του προγράμματος για συνολικό αριθμό βημάτων της αλυσίδας (α) 500, (β) 1,000, (γ) 10,000, (δ) 100,000, (ε) 1,000,000, (στ) 10,000,000 και (ζ) 100,000,000. Πόσο μεταβάλεται η εκτίμηση ανάμεσα σε κάθε έξοδο; Τι παρατηρείτε σχετικά με το συνολικό χρόνο εκτέλεσης της προσομοίωσης ανάλογα με το συνολικό αριθμό βημάτων της αλυσίδας; Κατά τη γνώμη σας, ποια τιμή του συνολικού αριθμού των βημάτων της αλυσίδας επιτυγχάνει μια ικανοποιητική ισορροπία ανάμεσα στην ακρίβεια του αποτελέσματος και το συνολικό χρόνο εκτέλεσης της προσομοίωσης; <b>Για να τρέξετε το πρόγραμμα θα πρέπει να έχετε φορτώσει το αρχείο <i><a href=\"https://github.com/nkostopoulos/StochasticsLabPublic/blob/master/lab3/simple_markov_chain_lib.py\">simple_markov_chain_lib.py</a></i>.</b></li>\n",
    "<li>Τι παρατηρείτε σχετικά με τις τιμές της αναλλοίωτης κατανομής της παραπάνω μαρκοβιανής αλυσίδας; Να υπολογίσετε το άθροισμα των στοιχείων κάθε στήλης της μήτρας πιθανοτήτων <b>P</b>. Πώς ονομάζεται μία τέτοια μήτρα πιθανοτήτων και τι ισχύει για την αναλλοίωτη κατανομή μιας τέτοιας αλυσίδας;</li>\n"
   ]
  },
  {
   "cell_type": "markdown",
   "metadata": {},
   "source": [
    "><b>1.</b> *Να συμπληρώσετε τα κενά της μήτρας πιθανοτήτων P της μαρκοβιανής αλυσίδας.*\n",
    "\n",
    "Χρησιμοποιώντας το γεγονός ότι κάθε γραμμή του πίνακα $P$ πρέπει να αθροίζει στη μονάδα ο συμπληρωμένος πίνακας είναι ο \n",
    "$$P =\n",
    "\\begin{pmatrix}\n",
    "0.6 & 0.2 & 0 & 0 & 0 & 0.2\\\\\n",
    "0.2 & 0.6 & 0.2 & 0 & 0 & 0\\\\\n",
    "0 & 0.2 & 0.6 & 0.2 & 0 & 0 \\\\\n",
    "0 & 0 & 0.2 & 0.6 & 0.2 & 0\\\\\n",
    "0 & 0 & 0 & 0.2 & 0.6 & 0.2\\\\\n",
    "0.2 & 0 & 0 & 0 & 0.2 & 0.6\\\\\n",
    "\\end{pmatrix}\n",
    "$$"
   ]
  },
  {
   "cell_type": "markdown",
   "metadata": {},
   "source": [
    "> <b>2.</b> *Χρησιμοποιώντας τον <a href=\"http://setosa.io/markov/index.html#%7B%22tm%22%3A%5B%5B0.6%2C0.2%2C0%2C0%2C0%2C0.2%5D%2C%5B0.2%2C0.6%2C0.2%2C0%2C0%2C0%5D%2C%5B0%2C0.2%2C0.6%2C0.2%2C0%2C0%5D%2C%5B0%2C0%2C0.2%2C0.6%2C0.2%2C0%5D%2C%5B0%2C0%2C0%2C0.2%2C0.6%2C0.2%5D%2C%5B0.2%2C0%2C0%2C0%2C0.2%2C0.6%5D%5D%7D\">προσομοιωτή</a> να σχεδιάσετε την παραπάνω μαρκοβιανή αλυσίδα και να ταξινομήσετε τις καταστάσεις της σε κλάσεις επικοινωνίας. Πώς αποκαλείται μια τέτοια αλυσίδα με κριτήριο τις κλάσεις επικοινωνίας; Τι συμπέρασμα βγάζετε σχετικά με την ύπαρξη αναλλοίωτης κατανομής για την αλυσίδα.*"
   ]
  },
  {
   "cell_type": "markdown",
   "metadata": {},
   "source": [
    "Με βάση τον προσομοιωτή βλέπουμε πως στην αλυσίδα δεν υπάρχουν μεταβατικές καταστάσεις. Δηλαδή, όλες οι καταστάσεις του συστήματος είναι επαναληπτικές που σημαίνει ότι επιστρέφουμε σε κάθε μια άπειρες φορές. Όπως παρατηρούμε απ' τον προσομοιωτή από οποιαδήποτε κατάσταση του συστήματος μπορούμε να μεταβούμε σε οποιαδήποτε άλλη κατάσταση με θετική πιθανότητα. Δηλαδή, για κάθε δύο καταστάσεις $i,j$ του συστήματος υπάρχουν μη αρνητικοί ακέραιοι $n,m$ με $p_{ij}^{(m)} >0$ και $p_{ij}^{(n)}>0$. Συνεπώς, αφού όλες οι καταστάσεις επικοινωνούν μεταξύ τους θα υπάρχει μια και μοναδική κλάση επικοινωνίας $C$ η οποία θα περιέχει όλες τις καταστάσεις. Άρα η κλάση επικοινωνίας θα είναι η $C = \\{0,1,2,3,4,5\\}$. Μια αλυσίδα Markov στην οποία όλες οι καταστάσεις επικοινωνούν μεταξύ του καλείται <b>μη υποβιβάσιμη</b>. Εφόσον η αλυσίδα είναι μη υποβιβάσιμη, γνωρίζουμε ότι θα είναι και εργοδική. Με άλλα λόγια, θα υπάρχει μια αναλλοίωτη κατανομή στην οποία η αλυσίδα θα συγκλίνει."
   ]
  },
  {
   "cell_type": "markdown",
   "metadata": {},
   "source": [
    "> <b>3.</b> *Χρησιμοποιώντας τον κώδικα που παρατίθεται στο τέλος της άσκησης θα εκτιμήσετε την αναλλοίωτη κατανομή της μαρκοβιανής αλυσίδας με τη μέθοδο της προσομοίωσης. Το πρόγραμμα: (α) ορίζει τη μήτρα πιθανοτήτων και την αρχική κατανομή της αλυσίδας, (β) ορίζει το μοντέλο της και (γ) εκτιμά την αναλλοίωτη κατανομή της αλυσίδας για κάθε κατάσταση, διαιρώντας τον αριθμό των επισκέψεων στην κατάσταση αυτή με το συνολικό αριθμό των βημάτων της αλυσίδας (παράμετρος <i>total_runs</i>). Το πρόγραμμα δίνει ως έξοδο ένα ραβδόγραμμα που απεικονίζει την αναλλοίωτη κατανομή της αλυσίδας. Να καταγράψετε το αποτέλεσμα της εκτέλεσης του προγράμματος για συνολικό αριθμό βημάτων της αλυσίδας (α) 500, (β) 1,000, (γ) 10,000, (δ) 100,000, (ε) 1,000,000, (στ) 10,000,000 και (ζ) 100,000,000. Πόσο μεταβάλεται η εκτίμηση ανάμεσα σε κάθε έξοδο; Τι παρατηρείτε σχετικά με το συνολικό χρόνο εκτέλεσης της προσομοίωσης ανάλογα με το συνολικό αριθμό βημάτων της αλυσίδας; Κατά τη γνώμη σας, ποια τιμή του συνολικού αριθμού των βημάτων της αλυσίδας επιτυγχάνει μια ικανοποιητική ισορροπία ανάμεσα στην ακρίβεια του αποτελέσματος και το συνολικό χρόνο εκτέλεσης της προσομοίωσης; Για να τρέξετε το πρόγραμμα θα πρέπει να έχετε φορτώσει το αρχείο*<i><a href=\"https://github.com/nkostopoulos/StochasticsLabPublic/blob/master/lab3/simple_markov_chain_lib.py\">simple_markov_chain_lib.py</a></i>."
   ]
  },
  {
   "cell_type": "markdown",
   "metadata": {},
   "source": [
    "Για να εκτιμήσουμε την αναλλοίωτη κατανομή της αλυσίδας για διαφορετικό αριθμό επαναλήψεων κάνουμε μια τροποποίηση στον κώδικα ώστε να μπορούμε να αλλάζουμε τη μεταβλητή `total_runs` παραμετρικά χωρίς να εκτελούμε ολόκληρο τον κώδικα πολλές φορές. Πιο συγκεκριμένα, στη συνάρτηση *calculateFrequencyTable* προσθέτουμε τη μεταβλητή `total_runs` στα ορίσματά της. Επίσης, κατασκευάζουμε και μια συνάρτηση *timer* για να κρατάμε τον χρόνο εκτέλεσης της κάθε προσομοίωσης. Παρακάτω βλέπουμε τα αποτέλεσματα ανάλογα με το διαφορετικό πλήθος των επαναλήψεων."
   ]
  },
  {
   "cell_type": "code",
   "execution_count": 1,
   "metadata": {},
   "outputs": [],
   "source": [
    "import time\n",
    "\n",
    "def timer(total_time):\n",
    "    print(f\"- Run time: {total_time//60} Min(s) {total_time % 60:.2f} Sec(s)\")"
   ]
  },
  {
   "cell_type": "markdown",
   "metadata": {},
   "source": [
    "##### A. 500"
   ]
  },
  {
   "cell_type": "code",
   "execution_count": 2,
   "metadata": {
    "colab": {},
    "colab_type": "code",
    "id": "utJ4k__vIseq"
   },
   "outputs": [
    {
     "name": "stdout",
     "output_type": "stream",
     "text": [
      "- Total runs: 500\n",
      "- Run time: 0.0 Min(s) 0.00 Sec(s)\n",
      "0:  0.154\n",
      "1:  0.174\n",
      "2:  0.188\n",
      "3:  0.152\n",
      "4:  0.164\n",
      "5:  0.168\n"
     ]
    },
    {
     "data": {
      "image/png": "[encoded data removed]",
      "text/plain": [
       "<Figure size 432x288 with 1 Axes>"
      ]
     },
     "metadata": {
      "needs_background": "light"
     },
     "output_type": "display_data"
    }
   ],
   "source": [
    "from __future__ import division\n",
    "from simple_markov_chain_lib import markov_chain\n",
    "import numpy as np\n",
    "import matplotlib.pyplot as plt\n",
    "\n",
    "total_runs = 500\n",
    "\n",
    "def defineMarkovTable(): \n",
    "\tmarkov_table = {\n",
    "\t\t0: {0: 0.6, 1: 0.2, 5: 0.2},\n",
    "\t\t1: {0: 0.2, 1: 0.6, 2: 0.2},\n",
    "\t\t2: {1: 0.2, 2: 0.6, 3: 0.2},\n",
    "\t\t3: {2: 0.2, 3: 0.6, 4: 0.2},\n",
    "\t\t4: {3: 0.2, 4: 0.6, 5: 0.2},\n",
    "\t\t5: {0: 0.2, 4: 0.2, 5: 0.6}\n",
    "        }\n",
    "\n",
    "\treturn markov_table\n",
    "\n",
    "def defineInitDistribution():\n",
    "\tinit_dist = {0: 1.}\n",
    "\t\n",
    "\treturn init_dist\n",
    "\n",
    "def calculateFrequencyTable(markov_table,init_dist, total_runs):\n",
    "\tprint('- Total runs:', total_runs)\n",
    "\tvisits = list()\n",
    "\tvisits = [0] * len(markov_table)\n",
    "\n",
    "\tfor index in range(total_runs):\n",
    "\t\tmc.move()\n",
    "\t\tvisits[mc.running_state] += 1\n",
    "\t\n",
    "\tfrequency = [v/total_runs for v in visits]\n",
    "\t\n",
    "\treturn frequency\n",
    "\n",
    "def printFrequencies(frequency, markov_table):\n",
    "\tfor state in range(0, len(markov_table)) :\n",
    "\t\tprint(str(state) + \": \", str(frequency[state]))\n",
    "\t\n",
    "\treturn None\n",
    "\n",
    "def plotFrequencies(frequency):\n",
    "\tobjects = ('1', '2', '3', '4', '5', '6')\n",
    "\ty_pos = np.arange(len(objects))\n",
    "\t\n",
    "\tplt.bar(y_pos, frequency, align='center', alpha=0.5)\n",
    "\tplt.xticks(y_pos, objects)\n",
    "\tplt.ylabel('States')\n",
    "\tplt.title('Frequencies')\n",
    "\tplt.show()\n",
    "\t\n",
    "\treturn None\n",
    "\n",
    "if __name__ == \"__main__\":\n",
    "\tmarkov_table = defineMarkovTable()\n",
    "\tinit_dist = defineInitDistribution()\n",
    "\tmc = markov_chain(markov_table, init_dist)\n",
    "\tmc.start()\n",
    "\ttic = time.time()\n",
    "\tfrequency = calculateFrequencyTable(markov_table, init_dist, total_runs = total_runs)\n",
    "\ttimer(time.time()-tic)\n",
    "\tprintFrequencies(frequency, markov_table)\n",
    "\tplotFrequencies(frequency)"
   ]
  },
  {
   "cell_type": "markdown",
   "metadata": {},
   "source": [
    "##### Β. 1000"
   ]
  },
  {
   "cell_type": "code",
   "execution_count": 3,
   "metadata": {},
   "outputs": [
    {
     "name": "stdout",
     "output_type": "stream",
     "text": [
      "- Total runs: 1000\n",
      "- Run time: 0.0 Min(s) 0.00 Sec(s)\n",
      "0:  0.203\n",
      "1:  0.188\n",
      "2:  0.162\n",
      "3:  0.152\n",
      "4:  0.131\n",
      "5:  0.164\n"
     ]
    },
    {
     "data": {
      "image/png": "[encoded data removed]",
      "text/plain": [
       "<Figure size 432x288 with 1 Axes>"
      ]
     },
     "metadata": {
      "needs_background": "light"
     },
     "output_type": "display_data"
    }
   ],
   "source": [
    "total_runs = 1000\n",
    "if __name__ == \"__main__\":\n",
    "\tmarkov_table = defineMarkovTable()\n",
    "\tinit_dist = defineInitDistribution()\n",
    "\tmc = markov_chain(markov_table, init_dist)\n",
    "\tmc.start()\n",
    "\ttic = time.time()\n",
    "\tfrequency = calculateFrequencyTable(markov_table, init_dist, total_runs = total_runs)\n",
    "\ttimer(time.time()-tic)  \n",
    "\tprintFrequencies(frequency, markov_table)\n",
    "\tplotFrequencies(frequency)"
   ]
  },
  {
   "cell_type": "markdown",
   "metadata": {},
   "source": [
    "##### Γ. 10000"
   ]
  },
  {
   "cell_type": "code",
   "execution_count": 4,
   "metadata": {},
   "outputs": [
    {
     "name": "stdout",
     "output_type": "stream",
     "text": [
      "- Total runs: 10000\n",
      "- Run time: 0.0 Min(s) 0.01 Sec(s)\n",
      "0:  0.1839\n",
      "1:  0.1668\n",
      "2:  0.1639\n",
      "3:  0.1559\n",
      "4:  0.1612\n",
      "5:  0.1683\n"
     ]
    },
    {
     "data": {
      "image/png": "[encoded data removed]",
      "text/plain": [
       "<Figure size 432x288 with 1 Axes>"
      ]
     },
     "metadata": {
      "needs_background": "light"
     },
     "output_type": "display_data"
    }
   ],
   "source": [
    "total_runs = 10000\n",
    "if __name__ == \"__main__\":\n",
    "\tmarkov_table = defineMarkovTable()\n",
    "\tinit_dist = defineInitDistribution()\n",
    "\tmc = markov_chain(markov_table, init_dist)\n",
    "\tmc.start()\n",
    "\ttic = time.time()\n",
    "\tfrequency = calculateFrequencyTable(markov_table, init_dist, total_runs = total_runs)\n",
    "\ttimer(time.time()-tic)    \n",
    "\tprintFrequencies(frequency, markov_table)\n",
    "\tplotFrequencies(frequency)"
   ]
  },
  {
   "cell_type": "markdown",
   "metadata": {},
   "source": [
    "##### Δ. 100000"
   ]
  },
  {
   "cell_type": "code",
   "execution_count": 5,
   "metadata": {},
   "outputs": [
    {
     "name": "stdout",
     "output_type": "stream",
     "text": [
      "- Total runs: 100000\n",
      "- Run time: 0.0 Min(s) 0.12 Sec(s)\n",
      "0:  0.1683\n",
      "1:  0.1683\n",
      "2:  0.16717\n",
      "3:  0.16351\n",
      "4:  0.16422\n",
      "5:  0.1685\n"
     ]
    },
    {
     "data": {
      "image/png": "[encoded data removed]",
      "text/plain": [
       "<Figure size 432x288 with 1 Axes>"
      ]
     },
     "metadata": {
      "needs_background": "light"
     },
     "output_type": "display_data"
    }
   ],
   "source": [
    "total_runs = 100000\n",
    "if __name__ == \"__main__\":\n",
    "\tmarkov_table = defineMarkovTable()\n",
    "\tinit_dist = defineInitDistribution()\n",
    "\tmc = markov_chain(markov_table, init_dist)\n",
    "\tmc.start()\n",
    "\ttic = time.time()\n",
    "\tfrequency = calculateFrequencyTable(markov_table, init_dist, total_runs = total_runs)\n",
    "\ttimer(time.time()-tic)    \n",
    "\tprintFrequencies(frequency, markov_table)\n",
    "\tplotFrequencies(frequency)"
   ]
  },
  {
   "cell_type": "markdown",
   "metadata": {},
   "source": [
    "##### Ε. 1000000"
   ]
  },
  {
   "cell_type": "code",
   "execution_count": 6,
   "metadata": {},
   "outputs": [
    {
     "name": "stdout",
     "output_type": "stream",
     "text": [
      "- Total runs: 1000000\n",
      "- Run time: 0.0 Min(s) 1.23 Sec(s)\n",
      "0:  0.167548\n",
      "1:  0.166917\n",
      "2:  0.166589\n",
      "3:  0.166769\n",
      "4:  0.165526\n",
      "5:  0.166651\n"
     ]
    },
    {
     "data": {
      "image/png": "[encoded data removed]",
      "text/plain": [
       "<Figure size 432x288 with 1 Axes>"
      ]
     },
     "metadata": {
      "needs_background": "light"
     },
     "output_type": "display_data"
    }
   ],
   "source": [
    "total_runs = 1000000\n",
    "if __name__ == \"__main__\":\n",
    "\tmarkov_table = defineMarkovTable()\n",
    "\tinit_dist = defineInitDistribution()\n",
    "\tmc = markov_chain(markov_table, init_dist)\n",
    "\tmc.start()\n",
    "\ttic = time.time()\n",
    "\tfrequency = calculateFrequencyTable(markov_table, init_dist,\n",
    "                                        total_runs = total_runs)\n",
    "\ttimer(time.time()-tic)    \n",
    "\tprintFrequencies(frequency, markov_table)\n",
    "\tplotFrequencies(frequency)"
   ]
  },
  {
   "cell_type": "markdown",
   "metadata": {},
   "source": [
    "##### ΣΤ. 10000000"
   ]
  },
  {
   "cell_type": "code",
   "execution_count": 7,
   "metadata": {},
   "outputs": [
    {
     "name": "stdout",
     "output_type": "stream",
     "text": [
      "- Total runs: 10000000\n",
      "- Run time: 0.0 Min(s) 12.24 Sec(s)\n",
      "0:  0.1664806\n",
      "1:  0.1667067\n",
      "2:  0.166778\n",
      "3:  0.1668718\n",
      "4:  0.1666148\n",
      "5:  0.1665481\n"
     ]
    },
    {
     "data": {
      "image/png": "[encoded data removed]",
      "text/plain": [
       "<Figure size 432x288 with 1 Axes>"
      ]
     },
     "metadata": {
      "needs_background": "light"
     },
     "output_type": "display_data"
    }
   ],
   "source": [
    "total_runs = 10000000\n",
    "if __name__ == \"__main__\":\n",
    "\tmarkov_table = defineMarkovTable()\n",
    "\tinit_dist = defineInitDistribution()\n",
    "\tmc = markov_chain(markov_table, init_dist)\n",
    "\tmc.start()\n",
    "\ttic = time.time()\n",
    "\tfrequency = calculateFrequencyTable(markov_table, init_dist,\n",
    "                                        total_runs = total_runs)\n",
    "\ttimer(time.time()-tic)    \n",
    "\tprintFrequencies(frequency, markov_table)\n",
    "\tplotFrequencies(frequency)"
   ]
  },
  {
   "cell_type": "markdown",
   "metadata": {},
   "source": [
    "##### Ζ. 100000000"
   ]
  },
  {
   "cell_type": "code",
   "execution_count": 8,
   "metadata": {},
   "outputs": [
    {
     "name": "stdout",
     "output_type": "stream",
     "text": [
      "- Total runs: 100000000\n",
      "- Run time: 2.0 Min(s) 4.67 Sec(s)\n",
      "0:  0.16670693\n",
      "1:  0.16670068\n",
      "2:  0.16667327\n",
      "3:  0.16660084\n",
      "4:  0.16665352\n",
      "5:  0.16666476\n"
     ]
    },
    {
     "data": {
      "image/png": "[encoded data removed]",
      "text/plain": [
       "<Figure size 432x288 with 1 Axes>"
      ]
     },
     "metadata": {
      "needs_background": "light"
     },
     "output_type": "display_data"
    }
   ],
   "source": [
    "total_runs = 100000000\n",
    "if __name__ == \"__main__\":\n",
    "\tmarkov_table = defineMarkovTable()\n",
    "\tinit_dist = defineInitDistribution()\n",
    "\tmc = markov_chain(markov_table, init_dist)\n",
    "\tmc.start()\n",
    "\ttic = time.time()\n",
    "\tfrequency = calculateFrequencyTable(markov_table, init_dist,\n",
    "                                        total_runs = total_runs)\n",
    "\ttimer(time.time()-tic)\n",
    "\tprintFrequencies(frequency, markov_table)\n",
    "\tplotFrequencies(frequency)"
   ]
  },
  {
   "cell_type": "markdown",
   "metadata": {},
   "source": [
    "Οπως βλέπουμε στις πρώτες τέσσερις εκτελέσεις της προσομοίωσης έχουμε σημαντικές διαφορές ως προς την εκτίμηση της αναλλοίωτης κατανομής των $6$ καταστάσεων χωρίς να μπορούμε με σιγουριά ποια είναι η αναλλοίωτη κατανομη. Όπως βλέπουμε μεταξύ της <b> (Δ),(Ε)</b> δε βλέπουμε μεγάλες διαφορές ως προς την εκτιμημένη οριακή πιθανότητα της κάθε κατάστασης. Επίσης, κοιτάζοντας τους χρόνους εκτέλεσης παρατηρούμε ότι όσο μεγαλώνει το πλήθος των επαναλήψεων τόσο αυξάνεται και ο χρόνος εκτέλεσης. Αυτό που βλέπουμε είναι ότι στις προσομοιώσεις <b> (A) - (Δ) </b> ο χρόνος εκτέλεσης είναι κάτω του ενός δευτερολέπτου. Για $1.000.000$ εκτελέσεις έχουμε περίπου χρόνο εκτέλεσης του $1$ δευτερόλεπτου, στις $10.000.000$ έχουμε περίπουμε $12$ δευτερόλεπτα και στην περίπτωση των $100.000.000$ έχουμε χρόνο εκτέλεσης περίπου $2$ λεπτά. Ο ιδανικός αριθμός επαναλήψεων στον οποίο έχουμε σχετικά χαμηλό χρόνο εκτέλεσης και μπορούμε να πούμε με σιγουριά ποιο είναι το διάνυσμα πιθανοτήτων της αναλλοίωτης κατανομής είναι η περίπτωση <b>(Δ)</b> του $1.000.000$ επαναλήψεων."
   ]
  },
  {
   "cell_type": "markdown",
   "metadata": {},
   "source": [
    "><b>4.</b>*Τι παρατηρείτε σχετικά με τις τιμές της αναλλοίωτης κατανομής της παραπάνω μαρκοβιανής αλυσίδας; Να υπολογίσετε το άθροισμα των στοιχείων κάθε στήλης της μήτρας πιθανοτήτων P. Πώς ονομάζεται μία τέτοια μήτρα πιθανοτήτων και τι ισχύει για την αναλλοίωτη κατανομή μιας τέτοιας αλυσίδας;*"
   ]
  },
  {
   "cell_type": "markdown",
   "metadata": {},
   "source": [
    "Όπως βλέπουμε και απ' τα παραπάνω διαγράμματα οι οριακές πιθανότητες των καταστάσεων συμπίπτουν. Δηλαδή, η πιθανότητα να βρεθούμε σε μια οποιαδήποτε κατάσταση στη πάροδο του χρόνου είναι ίση με $1/6$. Όπως βλέπουμε απ' τον πίνακα μεταβάσεων το άθροισμα των στηλών του αθροίζει στη μονάδα. Μια τέτοια μήτρα πιθανοτήτων ονομάζεται διπλά στοχαστική και αυτό που ισχύει για την αναλλοίωτη κατανομή μιας τέτοιας αλυσίδας με $N$ καταστάσεις είναι ότι η οριακή πιθανότητας της κάθε κατάστασης θα είναι η ίδια για όλες τις καταστάσεις και ίση με $1/N$."
   ]
  }
 ],
 "metadata": {
  "colab": {
   "collapsed_sections": [],
   "name": "Stochastic_Processes_&_Optimization_in_Machine_Learning_(Lab_3_Exercise_2).ipynb",
   "provenance": [],
   "toc_visible": true
  },
  "kernelspec": {
   "display_name": "Python 3 (ipykernel)",
   "language": "python",
   "name": "python3"
  },
  "language_info": {
   "codemirror_mode": {
    "name": "ipython",
    "version": 3
   },
   "file_extension": ".py",
   "mimetype": "text/x-python",
   "name": "python",
   "nbconvert_exporter": "python",
   "pygments_lexer": "ipython3",
   "version": "3.8.8"
  }
 },
 "nbformat": 4,
 "nbformat_minor": 1
}

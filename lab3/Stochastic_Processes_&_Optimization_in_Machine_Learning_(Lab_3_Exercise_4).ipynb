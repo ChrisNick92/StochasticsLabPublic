{
 "cells": [
  {
   "cell_type": "markdown",
   "metadata": {},
   "source": [
    "# Στοχαστικές Διεργασίες και Βελτιστοποίηση στη Μηχανική Μάθηση\n",
    "\n",
    "## 3ο Εργαστήριο - *Εxercise 4*\n",
    "\n",
    "- Ονομ/νυμο: Χρήστος Νίκου\n",
    "- AM: 03400146\n",
    "- Ιδιότητα: Μεταπτυχιακός φοιτητής Επιστήμης Δεδομένων και Μηχανικής Μάθησης (ΕΔΕΜΜ)\n",
    "- Ηλεκτρονική Διεύθυνση: christosnikou@mail.ntua.gr / chrisnick92@gmail.com"
   ]
  },
  {
   "cell_type": "markdown",
   "metadata": {
    "id": "0LsZdK1LTB1T"
   },
   "source": [
    "<h1><b>Άσκηση 4</b></h1>\n",
    "<p align=\"justify\">Η μέθοδος Monte Carlo είναι μια υπολογιστική μέθοδος, που βασίζεται στο νόμο των μεγάλων αριθμών. Αν $(X_n)_{n\\in \\mathbb{N}}$ είναι μια ακολουθία από ανεξάρτητες, ισόνομες τυχαίες μεταβλητές, με πεπερασμένη μέση τιμή $Ε[Χ]$, τότε:</p>\n",
    "\n",
    "$$\n",
    "P\\left[\n",
    "\\frac{1}{n}\\sum_{k=1}^{n}X_k \\rightarrow E[X]\n",
    "\\right] = 1\n",
    "$$\n",
    "\n",
    "<p align=\"justify\">Προκειμένου να υπολογίσουμε τη μέση τιμή $Ε[Χ]$  μιας τυχαίας μεταβλητής $Χ$, μπορούμε λοιπόν να πάρουμε το μέσο όρο ενός μεγάλου αριθμού ανεξάρτητων δειγμάτων αυτής της μεταβλητής. Με παρόμοιο τρόπο, μπορούμε να προσεγγίσουμε υπολογιστικά την πιθανότητα ενός ενδεχομένου από το κλάσμα των πραγματοποιήσεών του σε μια σειρά από <b>m</b> ανεξάρτητες προσομοιώσεις μέχρι το βήμα <b>n</b>, δηλαδή:</p>\n",
    "\n",
    "$$\n",
    "P\\left[\n",
    "\\frac{1}{m} \\sum_{k=1}^{m}H_k \\rightarrow P[X_n | X_0]\n",
    "\\right] = 1\n",
    "$$\n",
    "\n",
    "<p align=\"justify\">όπου η τυχαία μεταβλητή $Η_k$ παίρνει την τιμή 1 εάν το ενδεχόμενο πραγματοποιείται στο τέλος του εκάστοτε πειράματος και 0 στην αντίθετη περίπτωση. Σ’ αυτήν την ιδέα θα βασιστεί η άσκηση αυτή. Σας δίνεται η μαρκοβιανή αλυσίδα στο χώρο καταστάσεων $Χ=\\{1,2,3\\}$ με πίνακα πιθανοτήτων μετάβασης:</p>\n",
    "\n",
    "$$\n",
    "P = \\begin{pmatrix}\n",
    "0 & 1 & 0\\\\\n",
    "0 & 2/3 & 1/3\\\\\n",
    "1/6 & 5/6 & 0\n",
    "\\end{pmatrix}\n",
    "$$\n",
    "\n",
    "<p align=\"justify\">Χρησιμοποιώντας το πρόγραμμα που δίνεται παρακάτω, θα πραγματοποιήσετε <b>m</b> ανεξάρτητα πειράματα για να εκτιμήσετε την πιθανότητα <b>(Για να τρέξετε το πρόγραμμα θα πρέπει να έχετε φορτώσει το αρχείο <i><a href=\"https://github.com/nkostopoulos/StochasticsLabPublic/blob/master/lab3/simple_markov_chain_lib.py\">simple_markov_chain_lib.py</a></i>)</b>.</p>\n",
    "\n",
    "$$\n",
    "P\\left[\n",
    "X_{40} = 1 | X_0 = 1\n",
    "\\right],\n",
    "$$\n",
    "\n",
    "<p align=\"justify\">δηλαδή την πιθανότητα να βρίσκεται η αλυσίδα στην κατάσταση 1 στο 40ό βήμα της δεδομένου ότι ξεκίνησε από την κατάσταση 1. Για να ελέγξετε την ορθότητα της μεθόδου, το πρόγραμμα περιλαμβάνει και τον ακριβή υπολογισμό της παραπάνω πιθανότητας.</p> \n",
    "<ul>\n",
    "<li>Να μελετήσετε το πρόγραμμα και να περιγράψετε σύντομα τη μέθοδο που ακολουθείται.</li>\n",
    "<li>Να επαναλάβετε τη διαδικασία για τιμές της παραμέτρου m: (α) 1,000, (β) 10,000, (γ) 50,000, (δ) 100,000, (ε) 500,000. Να καταγράψετε και να σχολιάσετε την τιμή της παραπάνω πιθανότητας όπως υπολογίζεται από την προσομοίωση σε σχέση με την ακριβή τιμή της.</li>\n",
    "</ul>\n"
   ]
  },
  {
   "cell_type": "markdown",
   "metadata": {},
   "source": [
    "><b>1.</b>*Να μελετήσετε το πρόγραμμα και να περιγράψετε σύντομα τη μέθοδο που ακολουθείται.*"
   ]
  },
  {
   "cell_type": "markdown",
   "metadata": {},
   "source": [
    "Η εκτίμηση της πιθανότητας $P\\bigl(X_{40}=1 | X_{0}=1\\bigr)$ μέσω της διαδικασίας *Monte Carlo* στο πρόγραμμα που ακολουθεί παρακάτω γίνεται μέσω της συνάρτησης *calculateProbabilities*. Η συνάρτηση αρχικοποιεί την αλυσίδα μέσω της μεταβλητής `mc` με πίνακα μεταβάσεων \n",
    "$$P  = \\begin{pmatrix}\n",
    "0 & 1 &  0 \\\\\n",
    "0 & 2/3 & 1/3\\\\\n",
    "1/6 & 5/6 & 0 \\\\\n",
    "\\end{pmatrix}.$$\n",
    "Η μεταβλητή `expirements` δηλώνει τον αριθμό που θα επαναληφθεί το πείραμα, η μεταβλητή `steps` αρχικοποείται με την τιμή $40$ και αντιστοιχεί στον δείκτη $X_{40}$, δηλαδή ότι μας ενδιαφέρει η κατάσταση στην οποία βρίσκεται η αλυσίδα στο 40ο βήμα και τέλος η μεταβλητή `visits` είναι ο αριθμός των φορών που αλυσίδα βρέθηκε στην κατάσταση 1 κατά το 40ο βήμα. Μετά το τέλος των επαναλήψεων η εκτίμηση της ζητούμενης πιθανότητας γίνεται μέσω της \n",
    "$$P\\bigl(X_{40}=1 | X_{0}=1\\bigr)\\approx \\frac{visits}{experiments}.$$\n",
    "\n",
    "Επιπλέον, στο παρακάτω πρόγραμμα υπολογίζεται και η πραγματική τιμή της πιθανότητας $P\\bigl(X_{40}=1 | X_{0}=1\\bigr)$ μέσω του τύπου $\\pi^{(0)}\\cdot P^{40}$, ο οποίος μας δίνει το διάνυσμα πιθανοτήτων της κάθε κατάστασης στο 40ο βήμα, έτσι η πρώτη συντεταγμένη αυτού του διανύσματος μας δίνει την πραγματική τιμή της πιθανότητας $P\\bigl(X_{40}=1 | X_{0}=1\\bigr)$."
   ]
  },
  {
   "cell_type": "code",
   "execution_count": 2,
   "metadata": {},
   "outputs": [],
   "source": [
    "from __future__ import division\n",
    "from simple_markov_chain_lib import markov_chain\n",
    "import statistics as stat\n",
    "from numpy import matmul\n",
    "import numpy as np\n",
    "\n",
    "def defineMarkovTable(): \n",
    "\tp = 1/6\n",
    "\tmarkov_table = {\n",
    "\t\t1: {2: 1.},\n",
    "\t\t2: {2: 2/3, 3: 1/3},\n",
    "\t\t3: {1: p, 2: 1-p}\n",
    "\t}\n",
    "\n",
    "\treturn markov_table\n",
    "\n",
    "def defineNumpyTable():\n",
    "\tPn = np.array([[0,1,0],\n",
    "\t\t       [0,2/3,1/3],\n",
    "\t\t       [1/6, 5/6, 0]])\n",
    "\tP0 = np.array([[1,0,0]])\n",
    "\t\n",
    "\treturn Pn,P0\n",
    "\n",
    "def multiplyNumpyTables(Pn,P0):\n",
    "\tfor index in range(40):\n",
    "\t\tPn = np.matmul(Pn,Pn)\n",
    "\tPn = np.matmul(P0,Pn)\n",
    "\treturn Pn\n",
    "\n",
    "def defineInitDistribution():\n",
    "\tinit_dist = {1: 1.}\n",
    "\t\n",
    "\treturn init_dist\n",
    "\n",
    "def calculateProbabilities(markov_table, init_dist, experiments):\n",
    "\tmc = markov_chain(markov_table, init_dist)\n",
    "\tsteps = 40\n",
    "\tvisits = 0\n",
    "\n",
    "\tfor index in range(experiments):\n",
    "\t\tmc.start()\n",
    "\t\tfor j in range(steps):\n",
    "\t\t\tmc.move()\n",
    "\t\tif mc.running_state == 1: visits += 1\n",
    "\n",
    "\tprobability = visits / experiments\n",
    "\treturn probability, experiments"
   ]
  },
  {
   "cell_type": "markdown",
   "metadata": {},
   "source": [
    "><b>2. </b>*Να επαναλάβετε τη διαδικασία για τιμές της παραμέτρου m: (α) 1,000, (β) 10,000, (γ) 50,000, (δ) 100,000, (ε) 500,000. Να καταγράψετε και να σχολιάσετε την τιμή της παραπάνω πιθανότητας όπως υπολογίζεται από την προσομοίωση σε σχέση με την ακριβή τιμή της.*"
   ]
  },
  {
   "cell_type": "markdown",
   "metadata": {},
   "source": [
    "Παρακάτω εκτελούμε τη διαδικασία της μεθόδου *Monte Carlo* για (α) 1,000, (β) 10,000, (γ) 50,000, (δ) 100,000 και (ε) 500,000 επαναλήψεις και καταγράφουμε τα αποτελέσματα συγκρινοντάς τας με την πραγματική τιμή της πιθανότητας $P\\bigl(X_{40}=1 | X_{0}=1\\bigr)$."
   ]
  },
  {
   "cell_type": "markdown",
   "metadata": {},
   "source": [
    "#### *2. A - 1,000 Επαναλήψεις*"
   ]
  },
  {
   "cell_type": "code",
   "execution_count": 7,
   "metadata": {
    "id": "gkMG5r8WX1np"
   },
   "outputs": [
    {
     "name": "stdout",
     "output_type": "stream",
     "text": [
      "- Estimated probability: 0.035 using Monte Carlo method with total 1000 experiments.\n",
      "- Real probability: 0.039999 using matrix multiplication\n",
      "- Probability vector in step 40: [[0.03999857 0.71997421 0.2399914 ]]\n"
     ]
    }
   ],
   "source": [
    "reps = 1000\n",
    "if __name__ == \"__main__\":\n",
    "\tmarkov_table = defineMarkovTable()\n",
    "\tinit_dist = defineInitDistribution()\n",
    "\n",
    "\tprobability, experiments = calculateProbabilities(markov_table, init_dist, reps)\n",
    "\tprint(f\"- Estimated probability: {probability} using Monte Carlo method with total {experiments} experiments.\")\n",
    "\n",
    "\tPn,P0 = defineNumpyTable()\n",
    "\trealProbability = multiplyNumpyTables(Pn,P0)\n",
    "\tprint(f\"- Real probability: {realProbability[0][0]:.6f} using matrix multiplication\")  \n",
    "\tprint(f\"- Probability vector in step 40: {realProbability}\")"
   ]
  },
  {
   "cell_type": "markdown",
   "metadata": {},
   "source": [
    "#### *2. Β - 10,000 Επαναλήψεις*"
   ]
  },
  {
   "cell_type": "code",
   "execution_count": 8,
   "metadata": {},
   "outputs": [
    {
     "name": "stdout",
     "output_type": "stream",
     "text": [
      "- Estimated probability: 0.0372 using Monte Carlo method with total 10000 experiments.\n",
      "- Real probability: 0.039999 using matrix multiplication\n",
      "- Probability vector in step 40: [[0.03999857 0.71997421 0.2399914 ]]\n"
     ]
    }
   ],
   "source": [
    "reps = 10000\n",
    "if __name__ == \"__main__\":\n",
    "\tmarkov_table = defineMarkovTable()\n",
    "\tinit_dist = defineInitDistribution()\n",
    "\n",
    "\tprobability, experiments = calculateProbabilities(markov_table, init_dist, reps)\n",
    "\tprint(f\"- Estimated probability: {probability} using Monte Carlo method with total {experiments} experiments.\")\n",
    "\n",
    "\tPn,P0 = defineNumpyTable()\n",
    "\trealProbability = multiplyNumpyTables(Pn,P0)\n",
    "\tprint(f\"- Real probability: {realProbability[0][0]:.6f} using matrix multiplication\")  \n",
    "\tprint(f\"- Probability vector in step 40: {realProbability}\")"
   ]
  },
  {
   "cell_type": "markdown",
   "metadata": {},
   "source": [
    "#### *3. Γ - 50,000 Επαναλήψεις*"
   ]
  },
  {
   "cell_type": "code",
   "execution_count": 9,
   "metadata": {},
   "outputs": [
    {
     "name": "stdout",
     "output_type": "stream",
     "text": [
      "- Estimated probability: 0.04046 using Monte Carlo method with total 50000 experiments.\n",
      "- Real probability: 0.039999 using matrix multiplication\n",
      "- Probability vector in step 40: [[0.03999857 0.71997421 0.2399914 ]]\n"
     ]
    }
   ],
   "source": [
    "reps = 50000\n",
    "if __name__ == \"__main__\":\n",
    "\tmarkov_table = defineMarkovTable()\n",
    "\tinit_dist = defineInitDistribution()\n",
    "\n",
    "\tprobability, experiments = calculateProbabilities(markov_table, init_dist, reps)\n",
    "\tprint(f\"- Estimated probability: {probability} using Monte Carlo method with total {experiments} experiments.\")\n",
    "\n",
    "\tPn,P0 = defineNumpyTable()\n",
    "\trealProbability = multiplyNumpyTables(Pn,P0)\n",
    "\tprint(f\"- Real probability: {realProbability[0][0]:.6f} using matrix multiplication\")  \n",
    "\tprint(f\"- Probability vector in step 40: {realProbability}\")"
   ]
  },
  {
   "cell_type": "markdown",
   "metadata": {},
   "source": [
    "#### *4. Δ - 100,000 Επαναλήψεις*"
   ]
  },
  {
   "cell_type": "code",
   "execution_count": 10,
   "metadata": {},
   "outputs": [
    {
     "name": "stdout",
     "output_type": "stream",
     "text": [
      "- Estimated probability: 0.04183 using Monte Carlo method with total 100000 experiments.\n",
      "- Real probability: 0.039999 using matrix multiplication\n",
      "- Probability vector in step 40: [[0.03999857 0.71997421 0.2399914 ]]\n"
     ]
    }
   ],
   "source": [
    "reps = 100000\n",
    "if __name__ == \"__main__\":\n",
    "\tmarkov_table = defineMarkovTable()\n",
    "\tinit_dist = defineInitDistribution()\n",
    "\n",
    "\tprobability, experiments = calculateProbabilities(markov_table, init_dist, reps)\n",
    "\tprint(f\"- Estimated probability: {probability} using Monte Carlo method with total {experiments} experiments.\")\n",
    "\n",
    "\tPn,P0 = defineNumpyTable()\n",
    "\trealProbability = multiplyNumpyTables(Pn,P0)\n",
    "\tprint(f\"- Real probability: {realProbability[0][0]:.6f} using matrix multiplication\")  \n",
    "\tprint(f\"- Probability vector in step 40: {realProbability}\")"
   ]
  },
  {
   "cell_type": "markdown",
   "metadata": {},
   "source": [
    "#### *4. Ε - 500,000 Επαναλήψεις*"
   ]
  },
  {
   "cell_type": "code",
   "execution_count": 11,
   "metadata": {},
   "outputs": [
    {
     "name": "stdout",
     "output_type": "stream",
     "text": [
      "- Estimated probability: 0.039758 using Monte Carlo method with total 500000 experiments.\n",
      "- Real probability: 0.039999 using matrix multiplication\n",
      "- Probability vector in step 40: [[0.03999857 0.71997421 0.2399914 ]]\n"
     ]
    }
   ],
   "source": [
    "reps = 500000\n",
    "if __name__ == \"__main__\":\n",
    "\tmarkov_table = defineMarkovTable()\n",
    "\tinit_dist = defineInitDistribution()\n",
    "\n",
    "\tprobability, experiments = calculateProbabilities(markov_table, init_dist, reps)\n",
    "\tprint(f\"- Estimated probability: {probability} using Monte Carlo method with total {experiments} experiments.\")\n",
    "\n",
    "\tPn,P0 = defineNumpyTable()\n",
    "\trealProbability = multiplyNumpyTables(Pn,P0)\n",
    "\tprint(f\"- Real probability: {realProbability[0][0]:.6f} using matrix multiplication\")  \n",
    "\tprint(f\"- Probability vector in step 40: {realProbability}\")"
   ]
  },
  {
   "cell_type": "markdown",
   "metadata": {},
   "source": [
    "Όπως βλέπουμε όσο αυξάνεται ο αριθμός των επαναλήψεων τόσο η εκτιμώμενη πιθανότητα που παίρνουμε απ' τη μέθοδο *Monte Carlo* τείνει προς την πραγματική τιμή της πιθανότητας. Στον παρακάτω βλέπουμε και τα αποτελέσματα των εκτιμήσεων για την πιθανότητα $P\\bigl(X_{40}=1 | X_{0}=1\\bigr) = 0.039999.$\n",
    "\n",
    "| **Αριθμός Επαναλήψεων** | **Εκτιμώμενη πιθανότητα**|\n",
    "|:---------------|:-----------------|\n",
    "| **1,000** |       0.035      |\n",
    "| **10,000**      |       0.0372      |\n",
    "| **50,000**   |      0.04046    |       \n",
    "|  **100,000**\t     |       0.04183   |\n",
    "| **500,000**|       0.039758     |"
   ]
  }
 ],
 "metadata": {
  "colab": {
   "collapsed_sections": [],
   "name": "Stochastic_Processes_&_Optimization_in_Machine_Learning_(Lab_3_Exercise_4).ipynb",
   "provenance": []
  },
  "kernelspec": {
   "display_name": "Python 3 (ipykernel)",
   "language": "python",
   "name": "python3"
  },
  "language_info": {
   "codemirror_mode": {
    "name": "ipython",
    "version": 3
   },
   "file_extension": ".py",
   "mimetype": "text/x-python",
   "name": "python",
   "nbconvert_exporter": "python",
   "pygments_lexer": "ipython3",
   "version": "3.8.8"
  }
 },
 "nbformat": 4,
 "nbformat_minor": 1
}

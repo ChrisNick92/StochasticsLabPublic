{
 "cells": [
  {
   "cell_type": "markdown",
   "metadata": {
    "colab": {},
    "colab_type": "code",
    "id": "IcBgq3bsLNhz",
    "pycharm": {
     "name": "#%% md\n"
    }
   },
   "source": [
    "# Στοχαστικές Διεργασίες και Βελτιστοποίηση στη Μηχανική Μάθηση\n",
    "\n",
    "## 3ο Εργαστήριο - *Εxercise 1*\n",
    "\n",
    "- Ονομ/νυμο: Χρήστος Νίκου\n",
    "- AM: 03400146\n",
    "- Ιδιότητα: Μεταπτυχιακός φοιτητής Επιστήμης Δεδομένων και Μηχανικής Μάθησης (ΕΔΕΜΜ)\n",
    "- Ηλεκτρονική Διεύθυνση: christosnikou@mail.ntua.gr / chrisnick92@gmail.com"
   ]
  },
  {
   "cell_type": "markdown",
   "metadata": {
    "colab_type": "text",
    "id": "_6YO9eG4oROg",
    "pycharm": {
     "name": "#%% md\n"
    }
   },
   "source": [
    "<h1><b>Άσκηση 1</b></h1>\n",
    "<p align=\"justify\">Στο ακόλουθο σχήμα φαίνεται η κάτοψη ενός σπιτιού με πέντε δωμάτια: <i>Κουζίνα (<b>Κ</b>)</i>, <i>Βιβλιοθήκη (<b>Β</b>)</i>, <i>Σαλόνι (<b>Σ</b>)</i>, <i>Υπνοδωμάτιο (<b>Υ</b>)</i> και <i>Μπάνιο (<b>Μ</b>)<i>, καθώς και οι πόρτες που τα συνδέουν. Ένα έντομο που ζει στο σπίτι διασχίζει κάθε βράδυ τυχαία μια από τις πόρτες του δωματίου στο οποίο βρίσκεται και παραμένει στο δωμάτιο που οδηγεί η πόρτα μέχρι το επόμενο βράδυ. Αρχικά το έντομο βρίσκεται στο <i>Μπάνιο</i>. Αν {X<sub>n</sub>}<sub>n</sub> είναι η μαρκοβιανή αλυσίδα που περιγράφει τη θέση του εντόμου μετά από n βράδια:<p>\n",
    "<ul>\n",
    "<li>Να περιγράψετε το χώρο καταστάσεων X της μαρκοβιανής αλυσίδας.</li>\n",
    "<li>Να προσδιορίσετε τον πίνακα πιθανοτήτων μετάβασης P της μαρκοβιανής αλυσίδας.</li>\n",
    "</ul>\n",
    "\n",
    "<img src=\"https://raw.githubusercontent.com/nkostopoulos/StochasticsLabPublic/master/lab3/ex1.png\"></img>\n"
   ]
  },
  {
   "cell_type": "markdown",
   "metadata": {
    "pycharm": {
     "name": "#%% md\n"
    }
   },
   "source": [
    "#### 1. *Να περιγράψετε το χώρο καταστάσεων X της μαρκοβιανής αλυσίδας.*"
   ]
  },
  {
   "cell_type": "markdown",
   "metadata": {
    "pycharm": {
     "name": "#%% md\n"
    }
   },
   "source": [
    "Ο Χώρος καταστάσεων $X$ της μαρκοβιανής αλυσίδας είναι τα πέντε δωμάτια του σπιτιού, δηλαδή το σύνολο $\\{K,\\,B,\\, \\Sigma,\\, Y,\\, M\\}$, όπου το $K$ αντιστοιχεί στην κουζίνα, το $B$ για τη βιβλιοθήκη, το $\\Sigma$ για το Σαλόνι, το $Y$ για το υπνοδωμάτιο και $M$ για το μπάνιο."
   ]
  },
  {
   "cell_type": "markdown",
   "metadata": {
    "pycharm": {
     "name": "#%% md\n"
    }
   },
   "source": [
    "#### 2. *Να προσδιορίσετε τον πίνακα πιθανοτήτων μετάβασης P της μαρκοβιανής αλυσίδας.*"
   ]
  },
  {
   "cell_type": "markdown",
   "metadata": {
    "pycharm": {
     "name": "#%% md\n"
    }
   },
   "source": [
    "Για διευκόλυνση στο συμβολισμού αντιστοιχούμε τα αρχικά γράμματα των δωματίων με τους εξής αριθμούς:\n",
    "$$K \\longleftrightarrow 1\\\\\n",
    "B \\longleftrightarrow 2\\\\\n",
    "\\Sigma \\longleftrightarrow 3\\\\\n",
    "Y \\longleftrightarrow 4\\\\\n",
    "M \\longleftrightarrow 5.\n",
    "$$\n",
    "\n",
    "Για παράδειγμα, με τον παραπάνω συμβολισμό το σύμβολο $p_{12}$ αντιστοιχεί στην πιθανότητα το έντομο να βρεθεί από την Κουζίνα στη Βιβλιοθήκη. Έτσι, λαμβάνοντας υπόψιν ότι το έντομο μεταβαίνει απ'το ένα δωμάτιο σε κάποιο άλλο με τυχαίο τρόπο (ισοπίθανα) ο πίνακας μετάβασης $P$ της μαρκοβιανής αλυσίδας θα είναι ο \n",
    "$$P = \\begin{pmatrix}\n",
    "0 & 1/2 & 1/2 & 0 & 0\\\\\n",
    "1/2 & 0 & 1/2 & 0 & 0 \\\\\n",
    "1/4 & 1/4 & 0 & 1/4 & 1/4\\\\\n",
    "0 & 0 & 1 & 0 & 0 \\\\\n",
    "0 & 0 & 1 & 0 & 0\n",
    "\\end{pmatrix}.$$"
   ]
  }
 ],
 "metadata": {
  "colab": {
   "collapsed_sections": [],
   "name": "Stochastic_Processes_&_Optimization_in_Machine_Learning_(Lab_3_Exercise_1).ipynb",
   "provenance": []
  },
  "kernelspec": {
   "display_name": "Python 3 (ipykernel)",
   "language": "python",
   "name": "python3"
  },
  "language_info": {
   "codemirror_mode": {
    "name": "ipython",
    "version": 3
   },
   "file_extension": ".py",
   "mimetype": "text/x-python",
   "name": "python",
   "nbconvert_exporter": "python",
   "pygments_lexer": "ipython3",
   "version": "3.8.8"
  }
 },
 "nbformat": 4,
 "nbformat_minor": 1
}
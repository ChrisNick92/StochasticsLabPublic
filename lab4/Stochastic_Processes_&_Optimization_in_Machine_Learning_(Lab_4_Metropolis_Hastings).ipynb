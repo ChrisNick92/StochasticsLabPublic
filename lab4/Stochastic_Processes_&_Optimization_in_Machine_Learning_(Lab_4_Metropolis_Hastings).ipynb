{
 "cells": [
  {
   "cell_type": "markdown",
   "metadata": {},
   "source": [
    "# Στοχαστικές Διεργασίες και Βελτιστοποίηση στη Μηχανική Μάθηση\n",
    "\n",
    "## 4ο Εργαστήριο - *Ο Αλγόριθμος Metropolis-Hastings*\n",
    "\n",
    "- Ονομ/νυμο: Χρήστος Νίκου\n",
    "- AM: 03400146\n",
    "- Ιδιότητα: Μεταπτυχιακός φοιτητής Επιστήμης Δεδομένων και Μηχανικής Μάθησης (ΕΔΕΜΜ)\n",
    "- Ηλεκτρονική Διεύθυνση: christosnikou@mail.ntua.gr / chrisnick92@gmail.com"
   ]
  },
  {
   "cell_type": "markdown",
   "metadata": {
    "id": "fgR5Xn5gWfzW"
   },
   "source": [
    "<h1><b>Ο Αλγόριθμος <i>Metropolis-Hastings</i></b></h1>"
   ]
  },
  {
   "cell_type": "markdown",
   "metadata": {
    "id": "dJG2P4dG28aQ"
   },
   "source": [
    "<b>Σημείωση</b>: Η άσκηση αυτή έχει βασιστεί στο άρθρο που μπορεί να βρεθεί <a href=\"https://www.tweag.io/blog/2019-10-25-mcmc-intro1/\">εδώ</a>. Στο συγκεκριμένο άρθρο μπορεί να βρεθεί μια πιο αναλυτική εισαγωγή στις μεθόδους <b><i>Monte Carlo Markov Chain</i> (<i>MCMC</i>)</b> και στον αλγόριθμο <b><i>Metropolis-Hastings</i></b>, καθώς και συνοδευτικά άρθρα για πιο προχωρημένα ζητήματα."
   ]
  },
  {
   "cell_type": "markdown",
   "metadata": {
    "id": "wu6jgshaWfzc"
   },
   "source": [
    "Στην άσκηση αυτή θα μελετήσετε τον αλγόριθμο <b><i>Metropolis-Hastings</i></b>. Συγκεκριμένα, θα χρησιμοποιήσετε τον αλγόριθμο για να λάβετε δειγματικά στοιχεία (sampling points) από μία <b><i>τυπική κανονική κατανομή</i> (<i>standard normal distribution</i>)</b>, δηλαδή μία κανονική κατανομή συνεχούς τυχαίας μεταβλητής με μέση τιμή $μ=0$ και τυπική απόκλιση $σ=1$. \n",
    "\n",
    "Ως <b><i>proposal conditional density</i></b> θα λάβετε μία ομοιόμορφη κατανομή στο διάστημα $(-\\frac{Δ}{2}, \\frac{Δ}{2})$. Αφού η <b><i>proposal conditional density</i></b> που θα χρησιμοποιήσετε είναι μία συμμετρική κατανομή, ο αλγόριθμος <b><i>Metropolis-Hastings</i></b> θα λάβει την απλοποιημένη μορφή του, δηλαδή η πιθανότητα να πραγματοποιήσετε μία μετάβαση από την κατάσταση $x_{old}$ στην κατάσταση $x_{new}$ για μια κατανομή $π$ θα δίνεται από τον παρακάτω τύπο:\n",
    "\n",
    "$$\n",
    "p_{accept}(x_{new} | x_{old}) = min\\left[1, \\frac{π(x_{new})}{π(x_{old})}\\right]\n",
    "$$"
   ]
  },
  {
   "cell_type": "markdown",
   "metadata": {
    "id": "QpQ31sK7JnBf"
   },
   "source": [
    "Αναλυτικές οδηγίες σχετικά με το πώς προκύπτει ο παραπάνω τύπος περιλαμβάνονται στις διαφάνειες του μαθήματος, αλλά και στο άρθρο πάνω στο οποίο βασίστηκε η συγκεκριμένη άσκηση."
   ]
  },
  {
   "cell_type": "markdown",
   "metadata": {
    "id": "EwONS746Wfzm"
   },
   "source": [
    "<h3><b>Υλοποίηση του Αλγορίθμου <i>Metropolis-Hastings</i> σε Python</b></h3>"
   ]
  },
  {
   "cell_type": "markdown",
   "metadata": {
    "id": "9KKExkzlWfzn"
   },
   "source": [
    "Αρχικά, θα ορίσουμε τη μέθοδο <b><i>log_prob</i></b>, η οποία θα χρησιμοποιηθεί για τον υπολογισμό τιμών από την <b><i>τυπική κανονική κατανομή</i></b>. Να σημειωθεί ότι λαμβάνεται ο λογάριθμος της κατανομής αυτής. Ο λογάριθμος αυτός μπορεί να υπολογιστεί εύκολα από τον τύπο της <b><i>τυπικής κανονικής κατανομής</i></b>, που είναι διαθέσιμος από <a href=\"https://en.wikipedia.org/wiki/Normal_distribution#Standard_normal_distribution\">εδώ</a>. Λόγοι για τους οποίους προτιμάται αυτή η μορφή μπορούν να αναζητηθούν <a href=\"https://stats.stackexchange.com/questions/137710/metropolis-hastings-using-log-of-the-density\">εδώ</a>. Τέλος, οι σταθερές μπορούν να αγνοηθούν από τον τύπο με ασφάλεια λόγω της μορφή του αλγορίθμου <b><i>Metropolis-Hastings</i></b>."
   ]
  },
  {
   "cell_type": "code",
   "execution_count": 1,
   "metadata": {},
   "outputs": [],
   "source": [
    "import numpy as np"
   ]
  },
  {
   "cell_type": "code",
   "execution_count": 2,
   "metadata": {},
   "outputs": [],
   "source": [
    "# custom function to measure time\n",
    "import time\n",
    "\n",
    "def timer(tic):\n",
    "    timer = time.time()-tic\n",
    "    print(f\"{timer//60} Min(s) {timer % 60:.3f} sec(s)\")"
   ]
  },
  {
   "cell_type": "code",
   "execution_count": 3,
   "metadata": {
    "id": "Kqenb5leWfzn"
   },
   "outputs": [],
   "source": [
    "def log_prob(x):\n",
    "     return -0.5 * np.float64(x ** 2)"
   ]
  },
  {
   "cell_type": "markdown",
   "metadata": {
    "id": "_KPjDlPwWfzn"
   },
   "source": [
    "Στη συνέχεια, ορίζουμε τη μέθοδο <b><i>proposal</i></b>, η οποία θα χρησιμοποιηθεί για τον υπολογισμό τιμών από την ομοιόμορφη κατανομή, η οποία αποτελεί την <b><i>proposal conditional density</i></b>."
   ]
  },
  {
   "cell_type": "code",
   "execution_count": 4,
   "metadata": {
    "id": "Dp9BlafdWfzo"
   },
   "outputs": [],
   "source": [
    "def proposal(x, stepsize):\n",
    "    return np.random.uniform(low=x - 0.5 * stepsize, \n",
    "                             high=x + 0.5 * stepsize, \n",
    "                             size=x.shape)"
   ]
  },
  {
   "cell_type": "markdown",
   "metadata": {
    "id": "Z40PXGMAWfzo"
   },
   "source": [
    "Η πιθανότητα αποδοχής μιας νέας κατάστασης $x_{new}$ δεδομένης της τρέχουσας κατάστασης $x_{old}$ υπολογίζεται από τη παρακάτω μέθοδο. Να σημειωθεί πως στη συγκεκριμένη μέθοδο, ο τύπος $p_{accept}$ που δόθηκε παραπάνω έχει τροποποιηθεί κατάλληλα, ώστε να μην εμφανίζονται αρνητικές τιμές. Οι δύο μορφές του τύπου είναι ισοδύναμες, καθώς σημασία έχει η σύγκριση δύο τιμών και όχι οι ακριβείς τιμές, όπως φαίνεται από τον παραπάνω τύπο."
   ]
  },
  {
   "cell_type": "code",
   "execution_count": 5,
   "metadata": {
    "id": "EAqqwcrvWfzo"
   },
   "outputs": [],
   "source": [
    "def p_acc_MH(x_new, x_old, log_prob):\n",
    "    return min(1, np.exp(log_prob(x_new) - log_prob(x_old)))"
   ]
  },
  {
   "cell_type": "markdown",
   "metadata": {
    "id": "HbcWIf8OWfzo"
   },
   "source": [
    "Στη συνέχεια, υλοποιείται η μέθοδος με την οποία θα αποφασίζει ο αλγόριθμος <b><i>Metropolis-Hastings</i></b> εάν θα γίνει δεκτό ένα προτεινόμενο βήμα."
   ]
  },
  {
   "cell_type": "code",
   "execution_count": 6,
   "metadata": {
    "id": "PDQZIaGaWfzp"
   },
   "outputs": [],
   "source": [
    "def sample_MH(x_old, log_prob, stepsize):\n",
    "    x_new = proposal(x_old, stepsize)\n",
    "    accept = np.random.random() < p_acc_MH(x_new, x_old, log_prob)\n",
    "    if accept:\n",
    "        return accept, x_new\n",
    "    else:\n",
    "        return accept, x_old"
   ]
  },
  {
   "cell_type": "markdown",
   "metadata": {
    "id": "GOMPZAl4Wfzp"
   },
   "source": [
    "Τέλος, ορίζεται μία συνάρτηση που μετράει πόσες φορές έγιναν αποδεκτά τα προτεινόμενα βήματα."
   ]
  },
  {
   "cell_type": "code",
   "execution_count": 7,
   "metadata": {
    "id": "InhB04mDWfzp"
   },
   "outputs": [],
   "source": [
    "def build_MH_chain(init, stepsize, n_total, log_prob):\n",
    "\n",
    "    n_accepted = 0\n",
    "    chain = [init]\n",
    "\n",
    "    for _ in range(n_total):\n",
    "        accept, state = sample_MH(chain[-1], log_prob, stepsize)\n",
    "        chain.append(state)\n",
    "        n_accepted += accept\n",
    "    \n",
    "    acceptance_rate = n_accepted / float(n_total)\n",
    "    \n",
    "    return chain, acceptance_rate"
   ]
  },
  {
   "cell_type": "markdown",
   "metadata": {
    "id": "T41QzggA_XCz"
   },
   "source": [
    "<h3><b>Ερωτήματα (Μέρος Α)</b></h3>\n",
    "\n",
    "<ul>\n",
    "<li>Με ποιον τρόπο αποφασίζει ο αλγόριθμος <b><i>Metropolis-Hastings</i></b> εάν θα γίνει δεκτό ένα προτεινόμενο βήμα; Να εξηγήσετε συνοπτικά βάσει των παραπάνω μεθόδων.</li>\n",
    "<li>Με ποιον τρόπο αξιοποιούνται οι <b><i>αλυσίδες Markov</i> (<i>Markov Chains</i>)</b> από τον αλγόριθμο <b><i>Metropolis-Hastings</i></b> για τη λήψη τυχαίων δειγματικών σημείων από μία κατανομή πιθανοτήτων;</li>\n",
    "<li>Ο αλγόριθμος <b><i>Metropolis-Hastings</i></b> χρησιμοποιείται για τη λήψη τυχαίου δείγματος από μία κατανομή πιθανοτήτων για την οποία είναι αδύνατο να λάβουμε τέτοια δειγματικά στοιχεία λόγω αδυναμίας πλήρους καταγραφής του δειγματικού χώρου ή/και υπολογισμού κάποιας <b><i>σταθεράς κανονικοποίησης</i></b> που εμφανίζεται στην κατανομή. Έτσι, λαμβάνεται ως <b><i>κατανομή στόχος</i></b> μία κατανομή που έχει γνωστή μορφή, ανάλογη με την κατανομή από την οποία θέλουμε να λάβουμε τα δειγματικά στοιχεία. Με ποιον τρόπο καταφέρνει ο αλγόριθμος <b><i>Metropolis-Hastings</i></b> να δώσει αποτελέσματα παρά το γεγονός ότι αγνοεί τη <b><i>σταθερά κανονικοποίησης</i></b>;\n",
    "</ul>"
   ]
  },
  {
   "cell_type": "markdown",
   "metadata": {},
   "source": [
    "<h3> <b> Μέρος Α </b> </h3>"
   ]
  },
  {
   "cell_type": "markdown",
   "metadata": {},
   "source": [
    "><b>1. </b>*Με ποιον τρόπο αποφασίζει ο αλγόριθμος <b>Metropolis-Hastings</b> εάν θα γίνει δεκτό ένα προτεινόμενο βήμα; Να εξηγήσετε συνοπτικά βάσει των παραπάνω μεθόδων.*\n",
    "\n",
    "Ο τρόπος με τον οποίο ο αλγόριθμος αποφασίζει εάν θα γίνει δεκτό ένα προτεινόμενο βήμα είναι μέσω της συνάρτησης `sample_MH` μέσω της μεταβλητής `accept`. Αρχικά, επιλέγεται μέσω της συνάρτησης `proposal` εκλέγεται το πιθανό νέο δειγματικό σημείο και αποθηκεύεται στη μεταβλητή `x_new`. Το σημείο `x_new` επιλέγεται ομοιόμορφα απ' το διάστημα \n",
    "$$\\biggl(x_{old} - \\frac{stepsize}{2},x_{old}+\\frac{stepsize}{2}\\biggr),$$\n",
    "όπου $x_{old}$ είναι το δειγματικό σημείο του προηγούμενου βήματος και stepsize μια υπερπαράμετρος η οποία δείχνει το βήμα της επιλογής. Εν συνεχεία, μέσω της συνάρτησης `p_acc_MH` υπολογίζεται η πιθανότητα αποδοχής $p_{acc}$ (acceptance). Η πιθανότητα αποδοχής δίνεται μέσω της\n",
    "$$p_{acc} = \\min\\biggl\\{1,  \\exp\\bigl(-\\frac{1}{2}x_{new}^2 + \\frac{1}{2}x_{old}^2\\bigr)\\biggr\\}.$$\n",
    "\n",
    "Τέλος, το αν θα αποδεχτούμε το νέο δειγματικό σημείο εξαρτάται από την τιμή της μεταβλητής `accept`. Σε περίπτωση που η τιμή της είναι `True` αποδεχόμαστε το νέο δειγματικό σημείο ενώ στην περίπτωση που η μεταβλητή παίρνει την τιμή `False` το απορρίπτουμε. Η ένδειξη της τιμής εξαρτάται απ' την αληθοτιμή της ανίσωσης `np.random.random() < p_acc_MH(x_new, x_old, log_prob)`."
   ]
  },
  {
   "cell_type": "markdown",
   "metadata": {},
   "source": [
    "><b>2. </b>*Με ποιον τρόπο αξιοποιούνται οι αλυσίδες <b>Markov (Markov Chains)</b> από τον αλγόριθμο Metropolis-Hastings για τη λήψη τυχαίων δειγματικών σημείων από μία κατανομή πιθανοτήτων;*\n",
    "\n",
    "Ο τρόπος με τον οποίο αξιοποιούνται οι αλυσίδες *Markov* από τον αλγόριθμο *Metropolis-Hastings* είναι ότι η δειγματοληψία ενός σημείου εξαρτάται από το προηγούμενο δειγματικό σημείο. Στη συγκεκριμένη υλοποίηση, όπως αναφέραμε και προηγουμένως, επιλέγουμε ένα σημείο ομοιόμορφα από το διάστημα \n",
    "$$\\tag{1}\\biggl(x_{old} - \\frac{stepsize}{2}, x_{old} + \\frac{stepsize}{2}\\biggr),$$\n",
    "με πιθανότητα αποδοχής \n",
    "$$P_{acc} = \\min\\biggl\\{1, exp\\bigl(-\\frac{1}{2}x_{new}^2+\\frac{1}{2}x_{old}^2\\bigr)\\biggr\\}.$$\n",
    "Έτσι, η πιθανότητα μετάβασης από το σημείο $x_{old}$ στο νέο δειγματικό σημείο $x_{new}$ δίνεται μέσω της $T(x_{new}\\,|\\,x_{old}) = q(x_{new}\\,|\\,x_{old})\\cdot P_{acc},$\n",
    "όπου $q(x_{new}\\,|\\,x_{old})$ είναι η ομοιόμορφη κατανομή στο διάστημα της $(1)$. Μέσω της προηγούμενης σχέσης γίνεται εμφανής η εξάρτηση που υπάρχει μεταξύ της επιλογής του νέου δειγματικού σημείου από το προηγούμενο. Αυτή η ιδιότητα είναι χαρακτηριστική στις Μαρκοβιανές αλυσίδες και είναι γνωστή ως η αμνήμονη ιδιότητα. Στη γενικότερη μορφή του αλγορίθμου δειγματοληψίας *Metropolis-Hastings* ο γενικός τύπος που εκφράζει την εξάρτηση επιλογής του επόμενο σημείου απ' το προηγούμενο σημείο λαμβάνει τη μορφή $T(x_{i+1}\\,|\\, x_{i}) = q(x_{i+1}\\,|\\,x_{i})\\cdot P_{acc}(x_{i+1}\\,|\\,x_{i})$, όπου $q$ είναι μια προτεινόμενη κατανομή επιλογής (ομοιόμορφη στη συγκεκριμένη υλοποίηση). Επιπλέον, θέλουμε να ικανοποιείται και η απαίτηση η Μαρκοβιανή αλυσίδα να έχει στάσιμη κατανομή την κατανομή $\\pi$ από την οποία δειγματοληπτούμε. Μια τέτοια απαίτηση μας εξασφαλίζει η σχέση\n",
    "$$\\pi(x_i)\\cdot T(x_{i+1}\\,|\\,x_{i}) = \\pi(x_{i+1})\\cdot T(x_{i}\\,|\\,x_{i+1}),$$\n",
    "την οποία ικανοποιούν οι πυρήνες μετάβασης $T$ στους αλγορίθμους τύπου *MCMC*."
   ]
  },
  {
   "cell_type": "markdown",
   "metadata": {},
   "source": [
    "><b>3. </b> *Ο αλγόριθμος <b>Metropolis-Hastings</b> χρησιμοποιείται για τη λήψη τυχαίου δείγματος από μία κατανομή πιθανοτήτων για την οποία είναι αδύνατο να λάβουμε τέτοια δειγματικά στοιχεία λόγω αδυναμίας πλήρους καταγραφής του δειγματικού χώρου ή/και υπολογισμού κάποιας σταθεράς κανονικοποίησης που εμφανίζεται στην κατανομή. Έτσι, λαμβάνεται ως κατανομή στόχος μία κατανομή που έχει γνωστή μορφή, ανάλογη με την κατανομή από την οποία θέλουμε να λάβουμε τα δειγματικά στοιχεία. Με ποιον τρόπο καταφέρνει ο αλγόριθμος <b>Metropolis-Hastings</b> να δώσει αποτελέσματα παρά το γεγονός ότι αγνοεί τη σταθερά κανονικοποίησης;*\n",
    "\n",
    "Στη γενική μορφή του αλγορίθμου η πιθανότητα αποδοχής $p_{acc}$ δίνεται μέσω της \n",
    "$$p_{acc}(x_{i+1}\\,|\\,x_{i}) = \\min\\biggl\\{1,\\frac{\\pi(x_{i+1})\\cdot q(x_{i+1}\\,|\\,x_{i})}{\\pi(x_{i})\\cdot q(x_{i+1}\\,|\\,x_i)}\\biggr\\},$$\n",
    "όπως βλέπουμε εξαιτίας του λόγου $\\pi(x_{i+1})/\\pi(x_i)$ η σταθερά κανονικοποίησης που εμφανίζεται στην κατανανομή απλοποιείται και έτσι ο αλγόριθμος <b>*Metropolis-Hastings*</b> μπορεί να δώσει αποτελέσματα χωρίς να συμπεριλάβει τη σταθερά κανονικοποίησης."
   ]
  },
  {
   "cell_type": "markdown",
   "metadata": {
    "id": "2RknVi31Wfzq"
   },
   "source": [
    "<h3><b>Δοκιμές του Αλγορίθμου <i>Metropolis-Hastings</i></b></h3>"
   ]
  },
  {
   "cell_type": "markdown",
   "metadata": {
    "id": "JN2tzR_s_Qiz"
   },
   "source": [
    "Το παρακάτω τμήμα κώδικα ασχολείται με την κλήση των παραπάνω μεθόδων και την οπτικοποίηση των αποτελεσμάτων."
   ]
  },
  {
   "cell_type": "code",
   "execution_count": 8,
   "metadata": {
    "id": "UNkB0I4JWfzs"
   },
   "outputs": [],
   "source": [
    "%matplotlib notebook\n",
    "%matplotlib inline\n",
    "import numpy as np\n",
    "import matplotlib.pyplot as plt\n",
    "plt.rcParams['figure.figsize'] = [10, 6]\n",
    "np.random.seed(42)\n",
    "\n",
    "def plot_samples(chain, log_prob, ax, orientation='vertical', normalize=True,\n",
    "                 xlims=(-5, 5), legend=True):\n",
    "    from scipy.integrate import quad\n",
    "    \n",
    "    ax.hist(chain, bins=50, density=True, label=\"MCMC samples\",\n",
    "           orientation=orientation)\n",
    "    # we numerically calculate the normalization constant of our PDF\n",
    "    if normalize:\n",
    "        Z, _ = quad(lambda x: np.exp(log_prob(x)), -np.inf, np.inf)\n",
    "    else:\n",
    "        Z = 1.0\n",
    "    xses = np.linspace(xlims[0], xlims[1], 1000)\n",
    "    yses = [np.exp(log_prob(x)) / Z for x in xses]\n",
    "    if orientation == 'horizontal':\n",
    "        (yses, xses) = (xses, yses)\n",
    "    ax.plot(xses, yses, label=\"true distribution\")\n",
    "    if legend:\n",
    "        ax.legend(frameon=False)\n",
    "\n",
    "def sample_and_display(init_state, stepsize, n_total, n_burnin, log_prob):\n",
    "    chain, acceptance_rate = build_MH_chain(init_state, stepsize, n_total, log_prob)\n",
    "    print(\"Acceptance rate: {:.3f}\".format(acceptance_rate))\n",
    "    fig, ax = plt.subplots(figsize = (7,5))\n",
    "    plot_samples([state for state, in chain[n_burnin:]], log_prob, ax)\n",
    "    ax.set_yticks(())\n",
    "    plt.show()"
   ]
  },
  {
   "cell_type": "markdown",
   "metadata": {
    "id": "LjjLBOtqWfzt"
   },
   "source": [
    "Το αποτέλεσμα που περιμένετε να δείτε από τη συγκεκριμένη άσκηση είναι ότι ο αλγόριθμος <b><i>Metropolis-Hastings</i></b> θα σας επιστρέψει δειγματικά στοιχεία τα οποία θα ακολουθούν <b><i>τυπική κανονική κατανομή</i></b>.\n",
    "\n",
    "Εκτελέστε την παρακάτω μέθοδο για μέγεθος βήματος $Δ = 3.0$ και συνολικό αριθμό βημάτων $10000$. Παρατηρήστε ότι η κατανομή που προκύπτει είναι πολύ κοντά σε μία <b><i>τυπική κανονική</i></b>, ενώ το ποσοστό των βημάτων που έγιναν δεκτά από τον αλγόριθμο <b><i>Metropolis-Hastings</i></b> είναι περίπου $70$%."
   ]
  },
  {
   "cell_type": "code",
   "execution_count": 9,
   "metadata": {
    "colab": {
     "base_uri": "https://localhost:8080/",
     "height": 391
    },
    "id": "0u1cCGI89sn-",
    "outputId": "2c4e0c80-abec-4614-b1e3-f114d6069f0d"
   },
   "outputs": [
    {
     "name": "stdout",
     "output_type": "stream",
     "text": [
      "Acceptance rate: 0.718\n"
     ]
    },
    {
     "data": {
      "image/png": "[encoded data removed]",
      "text/plain": [
       "<Figure size 504x360 with 1 Axes>"
      ]
     },
     "metadata": {
      "needs_background": "light"
     },
     "output_type": "display_data"
    },
    {
     "name": "stdout",
     "output_type": "stream",
     "text": [
      "0.0 Min(s) 0.725 sec(s)\n"
     ]
    }
   ],
   "source": [
    "tic = time.time()\n",
    "sample_and_display(np.array([2.0]), 3.0, 10000, 500, log_prob)\n",
    "timer(tic)"
   ]
  },
  {
   "cell_type": "markdown",
   "metadata": {
    "id": "DO1MzngkFazw"
   },
   "source": [
    "<h3><b>Ερωτήματα (Μέρος Β)</b></h3>\n",
    "\n",
    "Να επαναλάβετε για $Δ=30$ και συνολικό αριθμό βημάτων $10000$. Τι παρατηρείτε ότι συμβαίνει στην περίπτωση που χρησιμοποιείτε ένα πολύ μεγάλο βήμα, δηλαδή πολύ μεγάλη τιμή για την παράμετρο $Δ$; Να επαναλάβετε για $Δ=300$, $Δ=3000$ και $Δ=30000$, ώστε να επιβεβαιώσετε το συμπέρασμά σας. Σχολιάστε και το ποσοστό των αποδεκτών βημάτων."
   ]
  },
  {
   "cell_type": "markdown",
   "metadata": {},
   "source": [
    "### Δ = 30"
   ]
  },
  {
   "cell_type": "code",
   "execution_count": 10,
   "metadata": {
    "colab": {
     "base_uri": "https://localhost:8080/",
     "height": 391
    },
    "id": "Jf-OoUopWfzu",
    "outputId": "6c9e5d34-9d7a-4a5d-b82e-a5ef71b38ae9",
    "scrolled": true
   },
   "outputs": [
    {
     "name": "stdout",
     "output_type": "stream",
     "text": [
      "Acceptance rate: 0.111\n"
     ]
    },
    {
     "data": {
      "image/png": "[encoded data removed]",
      "text/plain": [
       "<Figure size 504x360 with 1 Axes>"
      ]
     },
     "metadata": {
      "needs_background": "light"
     },
     "output_type": "display_data"
    },
    {
     "name": "stdout",
     "output_type": "stream",
     "text": [
      "0.0 Min(s) 0.469 sec(s)\n"
     ]
    }
   ],
   "source": [
    "tic = time.time()\n",
    "sample_and_display(np.array([2.0]), 30, 10000, 500, log_prob)\n",
    "timer(tic)"
   ]
  },
  {
   "cell_type": "markdown",
   "metadata": {},
   "source": [
    "### Δ = 300"
   ]
  },
  {
   "cell_type": "code",
   "execution_count": 11,
   "metadata": {},
   "outputs": [
    {
     "name": "stdout",
     "output_type": "stream",
     "text": [
      "Acceptance rate: 0.011\n"
     ]
    },
    {
     "data": {
      "image/png": "[encoded data removed]",
      "text/plain": [
       "<Figure size 504x360 with 1 Axes>"
      ]
     },
     "metadata": {
      "needs_background": "light"
     },
     "output_type": "display_data"
    },
    {
     "name": "stdout",
     "output_type": "stream",
     "text": [
      "0.0 Min(s) 0.510 sec(s)\n"
     ]
    }
   ],
   "source": [
    "tic = time.time()\n",
    "sample_and_display(np.array([2.0]), 300, 10000, 500, log_prob)\n",
    "timer(tic)"
   ]
  },
  {
   "cell_type": "markdown",
   "metadata": {},
   "source": [
    "### Δ = 3000"
   ]
  },
  {
   "cell_type": "code",
   "execution_count": 12,
   "metadata": {},
   "outputs": [
    {
     "name": "stdout",
     "output_type": "stream",
     "text": [
      "Acceptance rate: 0.001\n"
     ]
    },
    {
     "data": {
      "image/png": "[encoded data removed]",
      "text/plain": [
       "<Figure size 504x360 with 1 Axes>"
      ]
     },
     "metadata": {
      "needs_background": "light"
     },
     "output_type": "display_data"
    },
    {
     "name": "stdout",
     "output_type": "stream",
     "text": [
      "0.0 Min(s) 0.459 sec(s)\n"
     ]
    }
   ],
   "source": [
    "tic = time.time()\n",
    "sample_and_display(np.array([2.0]), 3000, 10000, 500, log_prob)\n",
    "timer(tic)"
   ]
  },
  {
   "cell_type": "markdown",
   "metadata": {},
   "source": [
    "### Δ = 30000"
   ]
  },
  {
   "cell_type": "code",
   "execution_count": 13,
   "metadata": {
    "scrolled": true
   },
   "outputs": [
    {
     "name": "stdout",
     "output_type": "stream",
     "text": [
      "Acceptance rate: 0.000\n"
     ]
    },
    {
     "data": {
      "image/png": "[encoded data removed]",
      "text/plain": [
       "<Figure size 504x360 with 1 Axes>"
      ]
     },
     "metadata": {
      "needs_background": "light"
     },
     "output_type": "display_data"
    },
    {
     "name": "stdout",
     "output_type": "stream",
     "text": [
      "0.0 Min(s) 0.470 sec(s)\n"
     ]
    }
   ],
   "source": [
    "tic = time.time()\n",
    "sample_and_display(np.array([2.0]), 30000, 10000, 500, log_prob)\n",
    "timer(tic)"
   ]
  },
  {
   "cell_type": "markdown",
   "metadata": {},
   "source": [
    "> *Τι παρατηρείτε ότι συμβαίνει στην περίπτωση που χρησιμοποιείτε ένα πολύ μεγάλο βήμα, δηλαδή πολύ μεγάλη τιμή για την παράμετρο $Δ$;*\n",
    "\n",
    "Όπως παρατηρούμε και απ' τα παραπάνω διαγράμματα όσο μεγαλώνει η τιμή του βήματος δειγματοληψίας $Δ$ τόσο μειώνεται το ποσοστό αποδοχής του δειγματικού σημείου και έτσι τελειώνοντας τις επαναλήψεις του αλγορίθμου δεν έχουμε μεγάλο αριθμό έτσι ώστε να ανακτήσουμε την κατανομή. Αυτό είναι λογικό αν κοιτάξουμε πάλι την πιθανότητα αποδοχής η οποία δίνεται από την\n",
    "$$P_{acc} = \\min\\biggl\\{1, \\exp\\bigl(-\\frac{1}{2}x_{new}^2 + \\frac{1}{2}x_{old}^2\\bigr)\\biggr\\}.$$\n",
    "Όπως βλέπουμε, η ποσότητα \n",
    "$$\\exp\\bigl(-\\frac{1}{2}x_{new}^2 + \\frac{1}{2}x_{old}^2\\bigr) \\to 0,$$\n",
    "καθώς το $|x_{new}|\\to +\\infty$, με αποτέλεσμα η πιθανότητα αποδοχής να είναι πάντα κοντά στο μηδέν όταν έχουμε μεγάλες τιμές του `x_new`. Έτσι, η μεταβλητή `accept` τις περισσότερες φορές είναι ψευδής με αποτέλεσμα να μην προσθέτονται νέα σημεία κατά τη διάρκεια των επαναλήψεων."
   ]
  },
  {
   "cell_type": "markdown",
   "metadata": {
    "id": "BhJ8KFbZGRvi"
   },
   "source": [
    "Να επαναλάβετε για $Δ=0.1$, δηλαδή μία πολύ μικρή τιμή για το βήμα. Τι παρατηρείτε; Είναι ικανοποιητικά τα αποτελέσματά σας; Σχολιάστε και το ποσοστό των αποδεκτών βημάτων. Να επαναλάβετε για $Δ=0.01$."
   ]
  },
  {
   "cell_type": "markdown",
   "metadata": {},
   "source": [
    "### Δ = 0.1"
   ]
  },
  {
   "cell_type": "code",
   "execution_count": 14,
   "metadata": {
    "colab": {
     "base_uri": "https://localhost:8080/",
     "height": 391
    },
    "id": "ksTky9sGWfzu",
    "outputId": "aed4bfb9-0a89-45d6-8808-c8b485584483"
   },
   "outputs": [
    {
     "name": "stdout",
     "output_type": "stream",
     "text": [
      "Acceptance rate: 0.991\n"
     ]
    },
    {
     "data": {
      "image/png": "[encoded data removed]",
      "text/plain": [
       "<Figure size 504x360 with 1 Axes>"
      ]
     },
     "metadata": {
      "needs_background": "light"
     },
     "output_type": "display_data"
    },
    {
     "name": "stdout",
     "output_type": "stream",
     "text": [
      "0.0 Min(s) 0.456 sec(s)\n"
     ]
    }
   ],
   "source": [
    "tic = time.time()\n",
    "sample_and_display(np.array([2.0]), 0.1, 10000, 500, log_prob)\n",
    "timer(tic)"
   ]
  },
  {
   "cell_type": "markdown",
   "metadata": {},
   "source": [
    "Όπως βλέπουμε απ' το παραπάνω διάγραμμα στη περίπτωση για $Δ=0.1$ έχουμε αρκετά υψηλό ποσοστό αποδοχής. Παρ' όλα αυτά, σε αυτή την περίπτωση όπως βλέπουμε δεν έχουμε καλή δειγματοληψία απ' την κατανομή, δηλαδή, στο παραπάνω σχήμα το ιστόγραμμα των σημείων που έχουμε μετά το πέρας της δειγματοληψίας απέχει απ' το γράφημα της κατανομής. Αυτό είναι λογικό αφού για μικρές τιμές του $Δ$ επιλέγουμε τιμές οι οποίες βρίσκονται πολύ κοντά στο προηγούμενο σημείο $x_{old}$ με αποτέλεσμα να μην έχουμε ικανοποιητικό αριθμό σημείων που να προέρχονται απ' την «ουρά» της κατανομής. Επομένως, για τη περίπτωση που $Δ = 0.1$ δεν έχουμε ιδιαίτερα ικανοποιητικά αποτέλεσματα για $10000$ επαναλήψεις. Παρακάτω βλέπουμε και τη δειγματοληψία που αντιστοιχεί για $Δ = 0.01$ και $10000$ επαναλήψεις."
   ]
  },
  {
   "cell_type": "markdown",
   "metadata": {},
   "source": [
    "### Δ = 0.01"
   ]
  },
  {
   "cell_type": "code",
   "execution_count": 15,
   "metadata": {},
   "outputs": [
    {
     "name": "stdout",
     "output_type": "stream",
     "text": [
      "Acceptance rate: 0.986\n"
     ]
    },
    {
     "data": {
      "image/png": "[encoded data removed]",
      "text/plain": [
       "<Figure size 504x360 with 1 Axes>"
      ]
     },
     "metadata": {
      "needs_background": "light"
     },
     "output_type": "display_data"
    },
    {
     "name": "stdout",
     "output_type": "stream",
     "text": [
      "0.0 Min(s) 0.484 sec(s)\n"
     ]
    }
   ],
   "source": [
    "tic = time.time()\n",
    "sample_and_display(np.array([2.0]), 0.1, 10000, 500, log_prob)\n",
    "timer(tic)"
   ]
  },
  {
   "cell_type": "markdown",
   "metadata": {},
   "source": [
    "Όπως βλέπουμε και στη περίπτωση για $Δ = 0.01$ έχουμε παρόμοια αποτελέσματα με την περίπτωση του $Δ=0.1$. Και σε αυτή την περίπτωση το ιστόγραμμα της δειγματοληψίας δεν περιγράφει ικανοποιητικά την κατανομή. Επίσης, και σε αυτή την περίπτωση το ποσοστό της αποδοχής είναι αρκετά υψηλό."
   ]
  },
  {
   "cell_type": "markdown",
   "metadata": {
    "id": "UEIbkF7CGxCt"
   },
   "source": [
    "Να επαναλάβετε αυξάνοντας το συνολικό αριθμό βημάτων που θα πραγματοποιηθούν σε $500000$. Τι παρατηρείτε σχετικά με την ακρίβεια των αποτελεσμάτων σας, αλλά και το χρόνο εκτέλεσης του αλγορίθμου <b><i>Metropolis-Hastings</i></b>;"
   ]
  },
  {
   "cell_type": "code",
   "execution_count": 16,
   "metadata": {
    "colab": {
     "base_uri": "https://localhost:8080/",
     "height": 391
    },
    "id": "chsa40ShWfzv",
    "outputId": "543f06c8-fa8c-42f0-c83c-c7d2d3c57adc"
   },
   "outputs": [
    {
     "name": "stdout",
     "output_type": "stream",
     "text": [
      "Acceptance rate: 0.990\n"
     ]
    },
    {
     "data": {
      "image/png": "[encoded data removed]",
      "text/plain": [
       "<Figure size 504x360 with 1 Axes>"
      ]
     },
     "metadata": {
      "needs_background": "light"
     },
     "output_type": "display_data"
    },
    {
     "name": "stdout",
     "output_type": "stream",
     "text": [
      "0.0 Min(s) 13.904 sec(s)\n"
     ]
    }
   ],
   "source": [
    "tic = time.time()\n",
    "sample_and_display(np.array([2.0]), 0.1, 500000, 25000, log_prob)\n",
    "timer(tic)"
   ]
  },
  {
   "cell_type": "markdown",
   "metadata": {},
   "source": [
    "Όπως βλέπουμε απ' το παραπάνω διάγραμμα η δειγματοληψία είναι αρκετά ικανοποιητική όταν αυξάνουμε τον αριθμό των επαναλήψεων από $10000$ σε $500000$. Παρ' όλα αυτά, με των αριθμό των επαναλήψεων αυξήθηκε και ο αριθμός εκτέλεσης του αλγορίθμου καθώς σε όλες τις προηγούμενες περιπτώσεις ο χρόνος εκτέλεσης ήταν κάτω του $1$ δευτερολέπτου, ενώ σε αυτή την περίπτωση ολοκληρώθηκε σε $13$ δευτερόλεπτα."
   ]
  },
  {
   "cell_type": "markdown",
   "metadata": {
    "id": "UXTTEkgfHO0y"
   },
   "source": [
    "Η συνάρτηση <b><i>sample_and_display</i></b> περιλαμβάνει το n_burnin ως τέταρτο όρισμα. Ποια είναι η χρησιμότητα του ορίσματος αυτού; Δοκιμάστε τις παρακάτω τιμές:\n",
    "<ul>\n",
    "<li>$Δ=0.1$, αριθμός βημάτων $1000$ και n_burnin=$10$.</li>\n",
    "<li>$Δ=0.1$, αριθμός βημάτων $500000$ και n_burnin=$490000$.</li>\n",
    "</ul>\n",
    "Τι παρατηρείτε;"
   ]
  },
  {
   "cell_type": "markdown",
   "metadata": {},
   "source": [
    ">*Η συνάρτηση <b>sample_and_display</b> περιλαμβάνει το <b>n_burnin</b> ως τέταρτο όρισμα. Ποια είναι η χρησιμότητα του ορίσματος αυτού;*\n",
    "\n",
    "Το όρισμα `n_burnin` της συνάρτησης `sample_and_display` εκφράζει το σημείο απ' το οποίο και πέρα επιλέγουμε να κρατήσουμε τα δείγματα που έχουν προκύψει κατά την εκτέλεση του αλγορίθμου *Metropolis-Hastings*. Ο λόγος για τον οποίο χρησιμοποιείται το συγκεκριμένο όρισμα είναι επειδή η σύγκλιση της Μαρκοβιανής αλυσίδας που κατασκευάζουμε κατά τη διαδικασία του αλγορίθμου αρχίζει να συγκλίνει στην αρχική κατανομή μετά από κάποιο αριθμό βημάτων. Επομένως, διαλέγουμε να κρατήσουμε τα σημεία τα οποία έχουν προκύψει μετά από κάποιο αριθμών δειγματοληψειών έτσι ώστε να έχουμε πιο ακριβή αποτελέσματα τα οποία να περιγράφουν σε καλύτερο βαθμό την κατανομή που έχουμε ως αναφορά. Παρακάτω βλέπουμε και τα αποτελέσματα του αλγορίθμου για διαφορετικές τιμές της παραμέτρου `n_burnin`."
   ]
  },
  {
   "cell_type": "markdown",
   "metadata": {},
   "source": [
    "### Δ=0.1 , αριθμός βημάτων  1000  και n_burnin= 10 ."
   ]
  },
  {
   "cell_type": "code",
   "execution_count": 17,
   "metadata": {},
   "outputs": [
    {
     "name": "stdout",
     "output_type": "stream",
     "text": [
      "Acceptance rate: 0.981\n"
     ]
    },
    {
     "data": {
      "image/png": "[encoded data removed]",
      "text/plain": [
       "<Figure size 504x360 with 1 Axes>"
      ]
     },
     "metadata": {
      "needs_background": "light"
     },
     "output_type": "display_data"
    },
    {
     "name": "stdout",
     "output_type": "stream",
     "text": [
      "0.0 Min(s) 0.189 sec(s)\n"
     ]
    }
   ],
   "source": [
    "tic = time.time()\n",
    "sample_and_display(np.array([2.0]), 0.1, 1000, 10, log_prob)\n",
    "timer(tic)"
   ]
  },
  {
   "cell_type": "markdown",
   "metadata": {},
   "source": [
    "Όπως βλέπουμε στη περίπτωση που η παράμετρος `n_burnin` παίρνει μικρές τιμές η δειγματοληψία δεν έχει ακριβή αποτελέσματα και αυτό οφείλεται στο γεγονός ότι η Μαρκοβιανή αλυσίδα δεν έχει ξεκινήσει να συγκλίνει προς την κατανομή αναφοράς από το 10ο βήμα."
   ]
  },
  {
   "cell_type": "markdown",
   "metadata": {},
   "source": [
    "### Δ=0.1 , αριθμός βημάτων  500000  και n_burnin= 490000 .|"
   ]
  },
  {
   "cell_type": "code",
   "execution_count": 18,
   "metadata": {},
   "outputs": [
    {
     "name": "stdout",
     "output_type": "stream",
     "text": [
      "Acceptance rate: 0.991\n"
     ]
    },
    {
     "data": {
      "image/png": "[encoded data removed]",
      "text/plain": [
       "<Figure size 504x360 with 1 Axes>"
      ]
     },
     "metadata": {
      "needs_background": "light"
     },
     "output_type": "display_data"
    },
    {
     "name": "stdout",
     "output_type": "stream",
     "text": [
      "0.0 Min(s) 12.349 sec(s)\n"
     ]
    }
   ],
   "source": [
    "tic = time.time()\n",
    "sample_and_display(np.array([2.0]), 0.1, 500000, 490000, log_prob)\n",
    "timer(tic)"
   ]
  },
  {
   "cell_type": "markdown",
   "metadata": {},
   "source": [
    "Όπως βλέπουμε σε αυτή την περίπτωση που έχουμε μεγαλύτερη τιμή για την παράμετρο `n_burnin` έχουμε καλύτερα αποτελέσματα απ'την προηγούμενη περίπτωση. Παρ' όλα αυτά, και σε αυτή την περίπτωση το αποτέλεσμα της δειγματοληψίας δεν είναι ιδιαιτέρα ικανοποιητικό καθώς η τιμή του $Δ = 0.1$ είναι πολύ μικρή και η τιμή της παραμέτρου `n_burnin` να είναι πολύ μεγαλή με αποτέλεσμα να μην λαμβάνουμε αρκετά δειγματικά σημεία μετά το πέρας της δειγματοληψίας. Επομένως, ο ιδανικός συνδυασμός των παραμέτρων για τη συγκεκριμένη υλοποιήση είναι ο `stepsize = 3, n_total = 10000, n_burnin = 500` και `stepsize = 0.1, n_total = 500000, n_burnin = 25000`, παρόλο που στη δεύτερη περίπτωση έχουμε λίγο μεγαλύτερο χρόνο εκτέλεσης."
   ]
  }
 ],
 "metadata": {
  "colab": {
   "name": "Stochastic_Processes_&_Optimization_in_Machine_Learning_(Lab_4_Metropolis_Hastings).ipynb",
   "provenance": []
  },
  "kernelspec": {
   "display_name": "Python 3 (ipykernel)",
   "language": "python",
   "name": "python3"
  },
  "language_info": {
   "codemirror_mode": {
    "name": "ipython",
    "version": 3
   },
   "file_extension": ".py",
   "mimetype": "text/x-python",
   "name": "python",
   "nbconvert_exporter": "python",
   "pygments_lexer": "ipython3",
   "version": "3.8.8"
  }
 },
 "nbformat": 4,
 "nbformat_minor": 1
}
